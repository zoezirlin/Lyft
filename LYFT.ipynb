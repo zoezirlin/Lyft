{
 "cells": [
  {
   "attachments": {
    "1534961430833.png": {
     "image/png": "[encoded data removed]"
    }
   },
   "cell_type": "markdown",
   "metadata": {},
   "source": [
    "## University of Georgia, Masters of Marketing Research, Terry College of Business\n",
    "\n",
    "![1534961430833.png](attachment:1534961430833.png)\n",
    "\n",
    "#### Applications of Marketing Research Techniques\n",
    "#### Janie Davis, Amanda Patton, Sarah Montgomery, Zoe Zirlin"
   ]
  },
  {
   "cell_type": "markdown",
   "metadata": {},
   "source": [
    "#### Importing packages and cleaned datafile"
   ]
  },
  {
   "cell_type": "code",
   "execution_count": 53,
   "metadata": {},
   "outputs": [],
   "source": [
    "import pandas as pd\n",
    "import numpy as np\n",
    "import seaborn as sns\n",
    "from matplotlib import pyplot as plt"
   ]
  },
  {
   "cell_type": "code",
   "execution_count": 54,
   "metadata": {},
   "outputs": [],
   "source": [
    "df = pd.read_excel('/Users/zoezirlin/Desktop/COMPILED CLEANED.xlsx')"
   ]
  },
  {
   "cell_type": "markdown",
   "metadata": {},
   "source": [
    "______________"
   ]
  },
  {
   "cell_type": "markdown",
   "metadata": {},
   "source": [
    "## Topic #1: Primary attention check and secondary attention check"
   ]
  },
  {
   "cell_type": "markdown",
   "metadata": {},
   "source": [
    "#### Checking to see how many people marked \"No- But I will participate anyways\" to the question \"It is very important that you read each question carefully and think about your answer before you give it. We rely on our respondents being thoughtful and taking this task seriously. Do you commit to doing this?\""
   ]
  },
  {
   "cell_type": "code",
   "execution_count": 55,
   "metadata": {},
   "outputs": [
    {
     "data": {
      "text/plain": [
       "Yes- I commit to reading each question carefully and thinking about my answer before giving it.     521\n",
       "Yes - I commit to reading each question carefully and thinking about my answer before I give it.    484\n",
       "No- But I will participate anyways.                                                                  11\n",
       "No - But I will participate anyways.                                                                  1\n",
       "Name: Q17, dtype: int64"
      ]
     },
     "execution_count": 55,
     "metadata": {},
     "output_type": "execute_result"
    }
   ],
   "source": [
    "pd.value_counts(df['Q17'])"
   ]
  },
  {
   "cell_type": "markdown",
   "metadata": {},
   "source": [
    "#### 12 respondents marked that they will not pay attention to the survey. \n",
    "#### They are dropped below."
   ]
  },
  {
   "cell_type": "code",
   "execution_count": 80,
   "metadata": {},
   "outputs": [
    {
     "data": {
      "text/plain": [
       "Yes- I commit to reading each question carefully and thinking about my answer before giving it.     500\n",
       "Yes - I commit to reading each question carefully and thinking about my answer before I give it.    479\n",
       "0                                                                                                     1\n",
       "Name: Q17, dtype: int64"
      ]
     },
     "execution_count": 80,
     "metadata": {},
     "output_type": "execute_result"
    }
   ],
   "source": [
    "attention_check_failure_1_A = df[ (df['Q17'] == 'No- But I will participate anyways.')].index\n",
    "attention_check_failure_1_B = df[ (df['Q17'] == 'No - But I will participate anyways.')].index\n",
    "\n",
    "df.drop(attention_check_failure_1_A, inplace = True)\n",
    "df.drop(attention_check_failure_1_B, inplace = True)\n",
    "\n",
    "pd.value_counts(df['Q17']) #This ensures that the drop mechanism was successful!"
   ]
  },
  {
   "cell_type": "markdown",
   "metadata": {},
   "source": [
    "#### Checking to see how many people incorrectly marked the secondary attention check"
   ]
  },
  {
   "cell_type": "code",
   "execution_count": 57,
   "metadata": {},
   "outputs": [
    {
     "data": {
      "text/plain": [
       "3.0    651\n",
       "2.0      4\n",
       "1.0      1\n",
       "Name: Q30, dtype: int64"
      ]
     },
     "execution_count": 57,
     "metadata": {},
     "output_type": "execute_result"
    }
   ],
   "source": [
    "pd.value_counts(df['Q30'])"
   ]
  },
  {
   "cell_type": "markdown",
   "metadata": {},
   "source": [
    "#### 5 respondents incorrectly marked the attention check. They were charged in the instructions for the question to mark \"3\".\n",
    "#### They are dropped below."
   ]
  },
  {
   "cell_type": "code",
   "execution_count": 58,
   "metadata": {},
   "outputs": [
    {
     "data": {
      "text/plain": [
       "3.0    651\n",
       "Name: Q30, dtype: int64"
      ]
     },
     "execution_count": 58,
     "metadata": {},
     "output_type": "execute_result"
    }
   ],
   "source": [
    "attention_check_failure_2_A = df[ (df['Q30'] == 2)].index\n",
    "attention_check_failure_2_B = df[ (df['Q30'] == 1)].index\n",
    "\n",
    "df.drop(attention_check_failure_2_A, inplace = True)\n",
    "df.drop(attention_check_failure_2_B, inplace = True)\n",
    "\n",
    "pd.value_counts(df['Q30'])"
   ]
  },
  {
   "cell_type": "code",
   "execution_count": 59,
   "metadata": {},
   "outputs": [],
   "source": [
    "df.fillna(0, inplace=True)"
   ]
  },
  {
   "cell_type": "markdown",
   "metadata": {},
   "source": [
    "_______"
   ]
  },
  {
   "cell_type": "markdown",
   "metadata": {},
   "source": [
    "## Topic #2: Number of people in household"
   ]
  },
  {
   "cell_type": "markdown",
   "metadata": {},
   "source": [
    "#### Average amount of people in a household is 2.83, max is 12, minimum is 1, median is 3"
   ]
  },
  {
   "cell_type": "code",
   "execution_count": 60,
   "metadata": {},
   "outputs": [
    {
     "data": {
      "text/plain": [
       "count    1001.000000\n",
       "mean        2.838162\n",
       "std         1.518480\n",
       "min         0.000000\n",
       "25%         2.000000\n",
       "50%         3.000000\n",
       "75%         4.000000\n",
       "max        12.000000\n",
       "Name: Q2, dtype: float64"
      ]
     },
     "execution_count": 60,
     "metadata": {},
     "output_type": "execute_result"
    }
   ],
   "source": [
    "df['Q2'].describe()"
   ]
  },
  {
   "cell_type": "markdown",
   "metadata": {},
   "source": [
    "#### The number of people in households surveyed is right skewed, with the majority falling between 1 and 5 people per household."
   ]
  },
  {
   "cell_type": "code",
   "execution_count": 61,
   "metadata": {},
   "outputs": [
    {
     "data": {
      "text/plain": [
       "(array([204., 287., 181., 199.,  79.,  47.,   2.,   0.,   1.,   1.]),\n",
       " array([ 0. ,  1.2,  2.4,  3.6,  4.8,  6. ,  7.2,  8.4,  9.6, 10.8, 12. ]),\n",
       " <a list of 10 Patch objects>)"
      ]
     },
     "execution_count": 61,
     "metadata": {},
     "output_type": "execute_result"
    },
    {
     "data": {
      "image/png": "[encoded data removed]",
      "text/plain": [
       "<Figure size 432x288 with 1 Axes>"
      ]
     },
     "metadata": {
      "needs_background": "light"
     },
     "output_type": "display_data"
    }
   ],
   "source": [
    "plt.hist(df['Q2'])"
   ]
  },
  {
   "cell_type": "markdown",
   "metadata": {},
   "source": [
    "________"
   ]
  },
  {
   "cell_type": "markdown",
   "metadata": {},
   "source": [
    "## Topic #3: How many cars are owned or leased by the household"
   ]
  },
  {
   "cell_type": "markdown",
   "metadata": {},
   "source": [
    "#### Average amount of cars is 1.8, min is 0, max is 10."
   ]
  },
  {
   "cell_type": "code",
   "execution_count": 62,
   "metadata": {},
   "outputs": [
    {
     "data": {
      "text/plain": [
       "count    1001.000000\n",
       "mean        1.538462\n",
       "std         1.181003\n",
       "min         0.000000\n",
       "25%         1.000000\n",
       "50%         1.000000\n",
       "75%         2.000000\n",
       "max        10.000000\n",
       "Name: Q4, dtype: float64"
      ]
     },
     "execution_count": 62,
     "metadata": {},
     "output_type": "execute_result"
    }
   ],
   "source": [
    "df['Q4'].describe()"
   ]
  },
  {
   "cell_type": "markdown",
   "metadata": {},
   "source": [
    "#### \"Does anyone in your household own or lease a car?\""
   ]
  },
  {
   "cell_type": "code",
   "execution_count": 121,
   "metadata": {},
   "outputs": [
    {
     "data": {
      "text/plain": [
       "Yes    833\n",
       "No     147\n",
       "Name: Q3, dtype: int64"
      ]
     },
     "execution_count": 121,
     "metadata": {},
     "output_type": "execute_result"
    }
   ],
   "source": [
    "df['Q3'].value_counts()"
   ]
  },
  {
   "cell_type": "markdown",
   "metadata": {},
   "source": [
    "__________"
   ]
  },
  {
   "cell_type": "markdown",
   "metadata": {},
   "source": [
    "## Topic #4: How much money is spent on gasoline per month"
   ]
  },
  {
   "cell_type": "markdown",
   "metadata": {},
   "source": [
    "#### There is a respondent that marked 50,000 USD as the amount that they spend on gasoline per month.\n",
    "\n",
    "#### We are dropping observations in which more than 1,000 USD is supposedly spent on gasoline per month. (The average cost of gas per month is 250 USD.)\n",
    "\n",
    "#### Median amount of money spent on gasoline per month is 60 USD."
   ]
  },
  {
   "cell_type": "code",
   "execution_count": 63,
   "metadata": {},
   "outputs": [
    {
     "data": {
      "text/plain": [
       "count     1001.000000\n",
       "mean       193.892298\n",
       "std       1713.643817\n",
       "min          0.000000\n",
       "25%         25.000000\n",
       "50%         60.000000\n",
       "75%        110.000000\n",
       "max      50000.000000\n",
       "Name: Q5, dtype: float64"
      ]
     },
     "execution_count": 63,
     "metadata": {},
     "output_type": "execute_result"
    }
   ],
   "source": [
    "df[\"Q5\"].describe()"
   ]
  },
  {
   "cell_type": "code",
   "execution_count": 70,
   "metadata": {},
   "outputs": [],
   "source": [
    "gasoline_outlier = df[ (df['Q5'] > 1000)].index\n",
    "df.drop(gasoline_outlier, inplace=True)"
   ]
  },
  {
   "cell_type": "code",
   "execution_count": 65,
   "metadata": {},
   "outputs": [
    {
     "data": {
      "text/plain": [
       "count     992.000000\n",
       "mean       95.853014\n",
       "std       129.396062\n",
       "min         0.000000\n",
       "25%        20.000000\n",
       "50%        60.000000\n",
       "75%       100.000000\n",
       "max      1000.000000\n",
       "Name: Q5, dtype: float64"
      ]
     },
     "execution_count": 65,
     "metadata": {},
     "output_type": "execute_result"
    }
   ],
   "source": [
    "df[\"Q5\"].describe()"
   ]
  },
  {
   "cell_type": "markdown",
   "metadata": {},
   "source": [
    "________"
   ]
  },
  {
   "cell_type": "markdown",
   "metadata": {},
   "source": [
    "## Topic #5: How much time is spent in the car per week"
   ]
  },
  {
   "cell_type": "markdown",
   "metadata": {},
   "source": [
    "#### Logically, one will not spend more than 70 hours per week in the car, unless they work in their car or live in their car. We are cutting observations with more than 70 hours per week spent in the car."
   ]
  },
  {
   "cell_type": "code",
   "execution_count": 84,
   "metadata": {},
   "outputs": [
    {
     "data": {
      "text/plain": [
       "count    980.000000\n",
       "mean       6.286878\n",
       "std        8.276970\n",
       "min        0.000000\n",
       "25%        1.000000\n",
       "50%        4.000000\n",
       "75%        8.000000\n",
       "max       70.000000\n",
       "Name: Q6, dtype: float64"
      ]
     },
     "execution_count": 84,
     "metadata": {},
     "output_type": "execute_result"
    }
   ],
   "source": [
    "df[\"Q6\"].describe()"
   ]
  },
  {
   "cell_type": "code",
   "execution_count": 71,
   "metadata": {},
   "outputs": [],
   "source": [
    "car_time_outlier = df[ (df['Q6'] > 70)].index\n",
    "df.drop(car_time_outlier, inplace=True)"
   ]
  },
  {
   "cell_type": "markdown",
   "metadata": {},
   "source": [
    "#### We now have 980 valid observations and can continue into the next phase of the survey."
   ]
  },
  {
   "cell_type": "markdown",
   "metadata": {},
   "source": [
    "_____________"
   ]
  },
  {
   "cell_type": "markdown",
   "metadata": {},
   "source": [
    "## Topic #6: Respondent opinions regarding car ownership"
   ]
  },
  {
   "cell_type": "markdown",
   "metadata": {},
   "source": [
    "#### \"How important is your car's brand to you?\""
   ]
  },
  {
   "cell_type": "code",
   "execution_count": 73,
   "metadata": {},
   "outputs": [
    {
     "data": {
      "text/plain": [
       "0                       153\n",
       "Somewhat agree          149\n",
       "Moderately important    133\n",
       "Very important          118\n",
       "Strongly agree           99\n",
       "Neutral                  94\n",
       "Extremely important      74\n",
       "Slightly important       66\n",
       "Somewhat disagree        42\n",
       "Not at all important     35\n",
       "Strongly disagree        17\n",
       "Name: Q9, dtype: int64"
      ]
     },
     "execution_count": 73,
     "metadata": {},
     "output_type": "execute_result"
    }
   ],
   "source": [
    "pd.value_counts(df['Q9'])"
   ]
  },
  {
   "cell_type": "markdown",
   "metadata": {},
   "source": [
    "#### \"How important is owning a car to you?\""
   ]
  },
  {
   "cell_type": "code",
   "execution_count": 76,
   "metadata": {},
   "outputs": [
    {
     "data": {
      "text/plain": [
       "Strongly agree          214\n",
       "Extremely important     164\n",
       "0                       151\n",
       "Very important          130\n",
       "Somewhat agree          115\n",
       "Moderately important     77\n",
       "Neutral                  52\n",
       "Slightly important       36\n",
       "Not at all important     21\n",
       "Strongly disagree        11\n",
       "Somewhat disagree         9\n",
       "Name: Q10, dtype: int64"
      ]
     },
     "execution_count": 76,
     "metadata": {},
     "output_type": "execute_result"
    }
   ],
   "source": [
    "pd.value_counts(df['Q10'])"
   ]
  },
  {
   "cell_type": "markdown",
   "metadata": {},
   "source": [
    "#### \"Would you ever consider giving up your car in favor of alternate forms of transportation?\""
   ]
  },
  {
   "cell_type": "code",
   "execution_count": 77,
   "metadata": {},
   "outputs": [
    {
     "data": {
      "text/plain": [
       "No                   235\n",
       "Strongly disagree    171\n",
       "0                    147\n",
       "Maybe                131\n",
       "Somewhat disagree     84\n",
       "Neutral               71\n",
       "Yes                   66\n",
       "Somewhat agree        50\n",
       "Strongly agree        25\n",
       "Name: Q11, dtype: int64"
      ]
     },
     "execution_count": 77,
     "metadata": {},
     "output_type": "execute_result"
    }
   ],
   "source": [
    "pd.value_counts(df['Q11'])"
   ]
  },
  {
   "cell_type": "markdown",
   "metadata": {},
   "source": [
    "## Topic #7: Respondent opinions regarding ride sharing usage"
   ]
  },
  {
   "cell_type": "markdown",
   "metadata": {},
   "source": [
    "#### \"Do you use ride-sharing services like Uber or Lyft?\""
   ]
  },
  {
   "cell_type": "code",
   "execution_count": 79,
   "metadata": {},
   "outputs": [
    {
     "data": {
      "text/plain": [
       "No     551\n",
       "Yes    429\n",
       "Name: Q12, dtype: int64"
      ]
     },
     "execution_count": 79,
     "metadata": {},
     "output_type": "execute_result"
    }
   ],
   "source": [
    "pd.value_counts(df['Q12'])"
   ]
  },
  {
   "cell_type": "markdown",
   "metadata": {},
   "source": [
    "#### \"On average, how many times a month do you use ride-share services?\""
   ]
  },
  {
   "cell_type": "code",
   "execution_count": 82,
   "metadata": {},
   "outputs": [
    {
     "data": {
      "text/plain": [
       "0       599\n",
       "1       129\n",
       "2        91\n",
       "3        44\n",
       "4        34\n",
       "5        27\n",
       "10       16\n",
       "6        11\n",
       "8         8\n",
       "12        5\n",
       "15        4\n",
       "20        3\n",
       "14        2\n",
       "7         2\n",
       "2-5       1\n",
       "5.5       1\n",
       "4.5       1\n",
       "36        1\n",
       "0.25      1\n",
       "Name: Q13, dtype: int64"
      ]
     },
     "execution_count": 82,
     "metadata": {},
     "output_type": "execute_result"
    }
   ],
   "source": [
    "df['Q13'].value_counts()"
   ]
  },
  {
   "cell_type": "markdown",
   "metadata": {},
   "source": [
    "#### For what purpose(s) do you typically use ride-share services? "
   ]
  },
  {
   "cell_type": "code",
   "execution_count": 85,
   "metadata": {},
   "outputs": [
    {
     "data": {
      "text/plain": [
       "0                                                                       750\n",
       "Visiting a bar/restaurant                                                67\n",
       "Traveling to the airport                                                 39\n",
       "Commuting to work                                                        27\n",
       "Other                                                                    26\n",
       "Traveling to the airport,Visiting a bar/restaurant                       25\n",
       "Commuting to work,Visiting a bar/restaurant                              10\n",
       "Commuting to work,Traveling to the airport                                9\n",
       "Commuting to work,Traveling to the airport,Visiting a bar/restaurant      9\n",
       "Visiting a bar/restaurant,Other                                           5\n",
       "Traveling to the airport,Visiting a bar/restaurant,Other                  5\n",
       "Traveling to the airport,Other                                            4\n",
       "Commuting to work,Other                                                   3\n",
       "Commuting to work,Visiting a bar/restaurant,Other                         1\n",
       "Name: Q14, dtype: int64"
      ]
     },
     "execution_count": 85,
     "metadata": {},
     "output_type": "execute_result"
    }
   ],
   "source": [
    "df['Q14'].value_counts()"
   ]
  },
  {
   "cell_type": "markdown",
   "metadata": {},
   "source": [
    "#### \"Please rate your agreement with the following statements regarding ride sharing apps.\n",
    "\n",
    "#### I feel safe when I use ride sharing services.\""
   ]
  },
  {
   "cell_type": "code",
   "execution_count": 88,
   "metadata": {},
   "outputs": [
    {
     "data": {
      "text/plain": [
       "0                    551\n",
       "Neutral              122\n",
       "Agree                103\n",
       "Somewhat agree        95\n",
       "Strongly agree        84\n",
       "Disagree              11\n",
       "Strongly disagree      8\n",
       "Somewhat disagree      6\n",
       "Name: Q18_1, dtype: int64"
      ]
     },
     "execution_count": 88,
     "metadata": {},
     "output_type": "execute_result"
    }
   ],
   "source": [
    "df['Q18_1'].value_counts()"
   ]
  },
  {
   "cell_type": "markdown",
   "metadata": {},
   "source": [
    "#### \"I use ride-sharing services because it is better for the environment than owning a car.\""
   ]
  },
  {
   "cell_type": "code",
   "execution_count": 89,
   "metadata": {},
   "outputs": [
    {
     "data": {
      "text/plain": [
       "0                    551\n",
       "Neutral              158\n",
       "Strongly disagree     57\n",
       "Disagree              56\n",
       "Somewhat disagree     46\n",
       "Agree                 45\n",
       "Somewhat agree        35\n",
       "Strongly agree        32\n",
       "Name: Q18_2, dtype: int64"
      ]
     },
     "execution_count": 89,
     "metadata": {},
     "output_type": "execute_result"
    }
   ],
   "source": [
    "df['Q18_2'].value_counts()"
   ]
  },
  {
   "cell_type": "markdown",
   "metadata": {},
   "source": [
    "#### \"I use ride-sharing services because I can’t afford to buy a car.\""
   ]
  },
  {
   "cell_type": "code",
   "execution_count": 90,
   "metadata": {},
   "outputs": [
    {
     "data": {
      "text/plain": [
       "0                    552\n",
       "Strongly disagree    193\n",
       "Disagree              60\n",
       "Neutral               45\n",
       "Somewhat disagree     39\n",
       "Strongly agree        36\n",
       "Somewhat agree        28\n",
       "Agree                 27\n",
       "Name: Q18_3, dtype: int64"
      ]
     },
     "execution_count": 90,
     "metadata": {},
     "output_type": "execute_result"
    }
   ],
   "source": [
    "df['Q18_3'].value_counts()"
   ]
  },
  {
   "cell_type": "markdown",
   "metadata": {},
   "source": [
    "#### \"I would use ride sharing services less if parking were better where I live.\""
   ]
  },
  {
   "cell_type": "code",
   "execution_count": 92,
   "metadata": {},
   "outputs": [
    {
     "data": {
      "text/plain": [
       "0                    553\n",
       "Neutral              114\n",
       "Strongly disagree     71\n",
       "Agree                 59\n",
       "Disagree              54\n",
       "Strongly agree        53\n",
       "Somewhat agree        42\n",
       "Somewhat disagree     34\n",
       "Name: Q18_4, dtype: int64"
      ]
     },
     "execution_count": 92,
     "metadata": {},
     "output_type": "execute_result"
    }
   ],
   "source": [
    "df['Q18_4'].value_counts()"
   ]
  },
  {
   "cell_type": "markdown",
   "metadata": {},
   "source": [
    "## Topic #8: Respondent opinions regarding bike and scooter rental usage"
   ]
  },
  {
   "cell_type": "markdown",
   "metadata": {},
   "source": [
    "#### \"Do you use alternative transportation rentals like rental bikes and scooters?\""
   ]
  },
  {
   "cell_type": "code",
   "execution_count": 93,
   "metadata": {},
   "outputs": [
    {
     "data": {
      "text/plain": [
       "No     595\n",
       "0      273\n",
       "Yes    112\n",
       "Name: Q19, dtype: int64"
      ]
     },
     "execution_count": 93,
     "metadata": {},
     "output_type": "execute_result"
    }
   ],
   "source": [
    "df['Q19'].value_counts()"
   ]
  },
  {
   "cell_type": "markdown",
   "metadata": {},
   "source": [
    "#### \"What do you use?\""
   ]
  },
  {
   "cell_type": "code",
   "execution_count": 97,
   "metadata": {},
   "outputs": [
    {
     "data": {
      "text/plain": [
       "0                 867\n",
       "Rental bike        53\n",
       "Both               39\n",
       "Rental scooter     21\n",
       "Name: Q20, dtype: int64"
      ]
     },
     "execution_count": 97,
     "metadata": {},
     "output_type": "execute_result"
    }
   ],
   "source": [
    "df['Q20'].value_counts()"
   ]
  },
  {
   "cell_type": "markdown",
   "metadata": {},
   "source": [
    "#### \"How often do you use rental bikes and/or scooters in the average month?\""
   ]
  },
  {
   "cell_type": "code",
   "execution_count": 98,
   "metadata": {},
   "outputs": [
    {
     "data": {
      "text/plain": [
       "0                  879\n",
       "2                   20\n",
       "1                   19\n",
       "3                   13\n",
       "4                   13\n",
       "5                    9\n",
       "6                    6\n",
       "10                   5\n",
       "20                   3\n",
       "8                    2\n",
       "7                    2\n",
       "15                   2\n",
       "12                   1\n",
       "0-1                  1\n",
       "13                   1\n",
       "30                   1\n",
       "50                   1\n",
       "Twice per month      1\n",
       "1                    1\n",
       "Name: Q21, dtype: int64"
      ]
     },
     "execution_count": 98,
     "metadata": {},
     "output_type": "execute_result"
    }
   ],
   "source": [
    "df[\"Q21\"].value_counts()"
   ]
  },
  {
   "cell_type": "markdown",
   "metadata": {},
   "source": [
    "#### \"Please rate your agreement with the following statements about rental bikes and/or scooters.\n",
    "\n",
    "#### I feel safe riding rental bikes.\""
   ]
  },
  {
   "cell_type": "code",
   "execution_count": 99,
   "metadata": {},
   "outputs": [
    {
     "data": {
      "text/plain": [
       "0                    867\n",
       "Strongly agree        36\n",
       "Neutral               24\n",
       "Agree                 22\n",
       "Somewhat agree        22\n",
       "Disagree               5\n",
       "Somewhat disagree      2\n",
       "Strongly disagree      2\n",
       "Name: Q22_1, dtype: int64"
      ]
     },
     "execution_count": 99,
     "metadata": {},
     "output_type": "execute_result"
    }
   ],
   "source": [
    "df['Q22_1'].value_counts()"
   ]
  },
  {
   "cell_type": "markdown",
   "metadata": {},
   "source": [
    "#### \"I feel safe riding rental scooters.\""
   ]
  },
  {
   "cell_type": "code",
   "execution_count": 100,
   "metadata": {},
   "outputs": [
    {
     "data": {
      "text/plain": [
       "0                    868\n",
       "Neutral               31\n",
       "Strongly agree        29\n",
       "Somewhat agree        19\n",
       "Agree                 18\n",
       "Disagree               7\n",
       "Somewhat disagree      5\n",
       "Strongly disagree      3\n",
       "Name: Q22_2, dtype: int64"
      ]
     },
     "execution_count": 100,
     "metadata": {},
     "output_type": "execute_result"
    }
   ],
   "source": [
    "df['Q22_2'].value_counts()"
   ]
  },
  {
   "cell_type": "markdown",
   "metadata": {},
   "source": [
    "#### \"I use rental bikes/scooters because they are fun.\""
   ]
  },
  {
   "cell_type": "code",
   "execution_count": 101,
   "metadata": {},
   "outputs": [
    {
     "data": {
      "text/plain": [
       "0                    869\n",
       "Strongly agree        41\n",
       "Agree                 29\n",
       "Somewhat agree        25\n",
       "Neutral               11\n",
       "Disagree               3\n",
       "Somewhat disagree      1\n",
       "Strongly disagree      1\n",
       "Name: Q22_3, dtype: int64"
      ]
     },
     "execution_count": 101,
     "metadata": {},
     "output_type": "execute_result"
    }
   ],
   "source": [
    "df['Q22_3'].value_counts()"
   ]
  },
  {
   "cell_type": "markdown",
   "metadata": {},
   "source": [
    "#### \"I use rental bikes/scooters because parking is difficult where I live.\""
   ]
  },
  {
   "cell_type": "code",
   "execution_count": 102,
   "metadata": {},
   "outputs": [
    {
     "data": {
      "text/plain": [
       "0                    868\n",
       "Neutral               25\n",
       "Strongly agree        21\n",
       "Agree                 18\n",
       "Disagree              14\n",
       "Somewhat agree        14\n",
       "Strongly disagree     13\n",
       "Somewhat disagree      7\n",
       "Name: Q22_4, dtype: int64"
      ]
     },
     "execution_count": 102,
     "metadata": {},
     "output_type": "execute_result"
    }
   ],
   "source": [
    "df['Q22_4'].value_counts()"
   ]
  },
  {
   "cell_type": "markdown",
   "metadata": {},
   "source": [
    "#### \"I feel safe using bike lanes in cities.\""
   ]
  },
  {
   "cell_type": "code",
   "execution_count": 103,
   "metadata": {},
   "outputs": [
    {
     "data": {
      "text/plain": [
       "0                    868\n",
       "Strongly agree        31\n",
       "Neutral               30\n",
       "Somewhat agree        18\n",
       "Agree                 12\n",
       "Strongly disagree     11\n",
       "Disagree               8\n",
       "Somewhat disagree      2\n",
       "Name: Q22_5, dtype: int64"
      ]
     },
     "execution_count": 103,
     "metadata": {},
     "output_type": "execute_result"
    }
   ],
   "source": [
    "df['Q22_5'].value_counts()"
   ]
  },
  {
   "cell_type": "markdown",
   "metadata": {},
   "source": [
    "## Topic #8: Respondent opinions regarding bike and scooter ownership"
   ]
  },
  {
   "cell_type": "markdown",
   "metadata": {},
   "source": [
    "#### \"Do you own a bicycle or scooter?\""
   ]
  },
  {
   "cell_type": "code",
   "execution_count": 104,
   "metadata": {},
   "outputs": [
    {
     "data": {
      "text/plain": [
       "No     596\n",
       "Yes    381\n",
       "0        3\n",
       "Name: Q23, dtype: int64"
      ]
     },
     "execution_count": 104,
     "metadata": {},
     "output_type": "execute_result"
    }
   ],
   "source": [
    "df['Q23'].value_counts()"
   ]
  },
  {
   "cell_type": "markdown",
   "metadata": {},
   "source": [
    "#### \"Please rate your agreement with the following statements about bikes and/or scooters.\n",
    "\n",
    "#### I feel safe riding my bike/scooter in the town/suburb/city where I live.\""
   ]
  },
  {
   "cell_type": "code",
   "execution_count": 106,
   "metadata": {},
   "outputs": [
    {
     "data": {
      "text/plain": [
       "0                    596\n",
       "Strongly agree        95\n",
       "Neutral               85\n",
       "Agree                 67\n",
       "Somewhat agree        61\n",
       "Somewhat disagree     29\n",
       "Strongly disagree     26\n",
       "Disagree              21\n",
       "Name: Q24_1, dtype: int64"
      ]
     },
     "execution_count": 106,
     "metadata": {},
     "output_type": "execute_result"
    }
   ],
   "source": [
    "df['Q24_1'].value_counts()"
   ]
  },
  {
   "cell_type": "markdown",
   "metadata": {},
   "source": [
    "#### \"I use my bike/scooter as a main method of transportation.\""
   ]
  },
  {
   "cell_type": "code",
   "execution_count": 107,
   "metadata": {},
   "outputs": [
    {
     "data": {
      "text/plain": [
       "0                    596\n",
       "Strongly disagree    197\n",
       "Disagree              57\n",
       "Neutral               36\n",
       "Somewhat disagree     33\n",
       "Strongly agree        25\n",
       "Somewhat agree        19\n",
       "Agree                 17\n",
       "Name: Q24_2, dtype: int64"
      ]
     },
     "execution_count": 107,
     "metadata": {},
     "output_type": "execute_result"
    }
   ],
   "source": [
    "df['Q24_2'].value_counts()"
   ]
  },
  {
   "cell_type": "markdown",
   "metadata": {},
   "source": [
    "#### \"My bike/scooter is reliable.\""
   ]
  },
  {
   "cell_type": "code",
   "execution_count": 108,
   "metadata": {},
   "outputs": [
    {
     "data": {
      "text/plain": [
       "0                    596\n",
       "Strongly agree       112\n",
       "Agree                 91\n",
       "Neutral               74\n",
       "Somewhat agree        70\n",
       "Disagree              15\n",
       "Strongly disagree     12\n",
       "Somewhat disagree     10\n",
       "Name: Q24_3, dtype: int64"
      ]
     },
     "execution_count": 108,
     "metadata": {},
     "output_type": "execute_result"
    }
   ],
   "source": [
    "df['Q24_3'].value_counts()"
   ]
  },
  {
   "cell_type": "markdown",
   "metadata": {},
   "source": [
    "#### \"I ride my bike/scooter year-round (in every season.)\""
   ]
  },
  {
   "cell_type": "code",
   "execution_count": 109,
   "metadata": {},
   "outputs": [
    {
     "data": {
      "text/plain": [
       "0                    596\n",
       "Strongly disagree    100\n",
       "Neutral               74\n",
       "Disagree              52\n",
       "Strongly agree        43\n",
       "Agree                 39\n",
       "Somewhat disagree     38\n",
       "Somewhat agree        38\n",
       "Name: Q24_4, dtype: int64"
      ]
     },
     "execution_count": 109,
     "metadata": {},
     "output_type": "execute_result"
    }
   ],
   "source": [
    "df['Q24_4'].value_counts()"
   ]
  },
  {
   "cell_type": "markdown",
   "metadata": {},
   "source": [
    "#### \"How much money did your bike/scooter cost?\""
   ]
  },
  {
   "cell_type": "code",
   "execution_count": 113,
   "metadata": {},
   "outputs": [
    {
     "data": {
      "text/plain": [
       "count      980.000000\n",
       "mean       171.636347\n",
       "std        810.847020\n",
       "min          0.000000\n",
       "25%          0.000000\n",
       "50%          0.000000\n",
       "75%        125.000000\n",
       "max      18000.000000\n",
       "Name: Q25, dtype: float64"
      ]
     },
     "execution_count": 113,
     "metadata": {},
     "output_type": "execute_result"
    }
   ],
   "source": [
    "df['Q25'].describe()"
   ]
  },
  {
   "cell_type": "markdown",
   "metadata": {},
   "source": [
    "## Topic #9: Demographics"
   ]
  },
  {
   "cell_type": "markdown",
   "metadata": {},
   "source": [
    "#### \"What is your age?\""
   ]
  },
  {
   "cell_type": "code",
   "execution_count": 114,
   "metadata": {},
   "outputs": [
    {
     "data": {
      "text/plain": [
       "count    980.000000\n",
       "mean      46.045918\n",
       "std       16.098044\n",
       "min       13.000000\n",
       "25%       34.000000\n",
       "50%       45.000000\n",
       "75%       59.000000\n",
       "max       86.000000\n",
       "Name: Q26, dtype: float64"
      ]
     },
     "execution_count": 114,
     "metadata": {},
     "output_type": "execute_result"
    }
   ],
   "source": [
    "df['Q26'].describe()"
   ]
  },
  {
   "cell_type": "markdown",
   "metadata": {},
   "source": [
    "#### \"What is your gender?\""
   ]
  },
  {
   "cell_type": "code",
   "execution_count": 115,
   "metadata": {},
   "outputs": [
    {
     "data": {
      "text/plain": [
       "Female                  617\n",
       "Male                    362\n",
       "Prefer not to answer      1\n",
       "Name: Q28, dtype: int64"
      ]
     },
     "execution_count": 115,
     "metadata": {},
     "output_type": "execute_result"
    }
   ],
   "source": [
    "df['Q28'].value_counts()"
   ]
  },
  {
   "cell_type": "markdown",
   "metadata": {},
   "source": [
    "#### \"What is your race?\""
   ]
  },
  {
   "cell_type": "code",
   "execution_count": 116,
   "metadata": {},
   "outputs": [
    {
     "data": {
      "text/plain": [
       "White                                        384\n",
       "White American                               290\n",
       "African-American                              95\n",
       "Black or African American                     50\n",
       "Asian                                         34\n",
       "Hispanic/Latino-American                      34\n",
       "Asian-American                                31\n",
       "Other                                         26\n",
       "Prefer not to answer                          12\n",
       "Multi-racial                                  10\n",
       "Indian-American                                7\n",
       "American Indian or Alaska Native               4\n",
       "Native Hawaiian or Other Pacific Islander      2\n",
       "Native American                                1\n",
       "Name: Q29, dtype: int64"
      ]
     },
     "execution_count": 116,
     "metadata": {},
     "output_type": "execute_result"
    }
   ],
   "source": [
    "df['Q29'].value_counts()"
   ]
  },
  {
   "cell_type": "markdown",
   "metadata": {},
   "source": [
    " # Note- look into making interactive zip code dashboard!!"
   ]
  },
  {
   "cell_type": "code",
   "execution_count": null,
   "metadata": {},
   "outputs": [],
   "source": []
  },
  {
   "cell_type": "code",
   "execution_count": null,
   "metadata": {},
   "outputs": [],
   "source": []
  }
 ],
 "metadata": {
  "kernelspec": {
   "display_name": "Python 3",
   "language": "python",
   "name": "python3"
  },
  "language_info": {
   "codemirror_mode": {
    "name": "ipython",
    "version": 3
   },
   "file_extension": ".py",
   "mimetype": "text/x-python",
   "name": "python",
   "nbconvert_exporter": "python",
   "pygments_lexer": "ipython3",
   "version": "3.7.6"
  }
 },
 "nbformat": 4,
 "nbformat_minor": 4
}
