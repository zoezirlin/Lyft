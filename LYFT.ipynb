{
 "cells": [
  {
   "attachments": {
    "1534961430833.png": {
     "image/png": "[encoded data removed]"
    }
   },
   "cell_type": "markdown",
   "metadata": {},
   "source": [
    "## University of Georgia, Masters of Marketing Research, Terry College of Business\n",
    "\n",
    "![1534961430833.png](attachment:1534961430833.png)\n",
    "\n",
    "#### Applications of Marketing Research Techniques\n",
    "#### Janie Davis, Amanda Patton, Sarah Montgomery, Zoe Zirlin"
   ]
  },
  {
   "cell_type": "markdown",
   "metadata": {},
   "source": [
    "#### Importing packages and cleaned datafile"
   ]
  },
  {
   "cell_type": "code",
   "execution_count": 1,
   "metadata": {},
   "outputs": [],
   "source": [
    "import pandas as pd\n",
    "import numpy as np\n",
    "import seaborn as sns\n",
    "from matplotlib import pyplot as plt"
   ]
  },
  {
   "cell_type": "code",
   "execution_count": 2,
   "metadata": {},
   "outputs": [],
   "source": [
    "df = pd.read_csv('/Users/zoezirlin/Desktop/lyft_updated_nov19.csv')"
   ]
  },
  {
   "cell_type": "markdown",
   "metadata": {},
   "source": [
    "______________"
   ]
  },
  {
   "cell_type": "markdown",
   "metadata": {},
   "source": [
    "## Topic #1: Primary attention check and secondary attention check"
   ]
  },
  {
   "cell_type": "markdown",
   "metadata": {},
   "source": [
    "#### Checking to see how many people marked \"No- But I will participate anyways\" to the question \"It is very important that you read each question carefully and think about your answer before you give it. We rely on our respondents being thoughtful and taking this task seriously. Do you commit to doing this?\""
   ]
  },
  {
   "cell_type": "code",
   "execution_count": 56,
   "metadata": {},
   "outputs": [
    {
     "data": {
      "text/plain": [
       "Yes- I commit to reading each question carefully and thinking about my answer before giving it.     500\n",
       "Yes - I commit to reading each question carefully and thinking about my answer before I give it.    479\n",
       "0                                                                                                     1\n",
       "Name: Q17, dtype: int64"
      ]
     },
     "execution_count": 56,
     "metadata": {},
     "output_type": "execute_result"
    }
   ],
   "source": [
    "pd.value_counts(df['Q17'])"
   ]
  },
  {
   "cell_type": "markdown",
   "metadata": {},
   "source": [
    "#### 12 respondents marked that they will not pay attention to the survey. \n",
    "#### They are dropped below."
   ]
  },
  {
   "cell_type": "code",
   "execution_count": 57,
   "metadata": {},
   "outputs": [
    {
     "data": {
      "text/plain": [
       "Yes- I commit to reading each question carefully and thinking about my answer before giving it.     500\n",
       "Yes - I commit to reading each question carefully and thinking about my answer before I give it.    479\n",
       "0                                                                                                     1\n",
       "Name: Q17, dtype: int64"
      ]
     },
     "execution_count": 57,
     "metadata": {},
     "output_type": "execute_result"
    }
   ],
   "source": [
    "attention_check_failure_1_A = df[ (df['Q17'] == 'No- But I will participate anyways.')].index\n",
    "attention_check_failure_1_B = df[ (df['Q17'] == 'No - But I will participate anyways.')].index\n",
    "\n",
    "df.drop(attention_check_failure_1_A, inplace = True)\n",
    "df.drop(attention_check_failure_1_B, inplace = True)\n",
    "\n",
    "pd.value_counts(df['Q17']) #This ensures that the drop mechanism was successful!"
   ]
  },
  {
   "cell_type": "markdown",
   "metadata": {},
   "source": [
    "#### Checking to see how many people incorrectly marked the secondary attention check"
   ]
  },
  {
   "cell_type": "code",
   "execution_count": 58,
   "metadata": {},
   "outputs": [
    {
     "data": {
      "text/plain": [
       "3    631\n",
       "0    349\n",
       "Name: Q30, dtype: int64"
      ]
     },
     "execution_count": 58,
     "metadata": {},
     "output_type": "execute_result"
    }
   ],
   "source": [
    "pd.value_counts(df['Q30'])"
   ]
  },
  {
   "cell_type": "markdown",
   "metadata": {},
   "source": [
    "#### 5 respondents incorrectly marked the attention check. They were charged in the instructions for the question to mark \"3\".\n",
    "#### They are dropped below."
   ]
  },
  {
   "cell_type": "code",
   "execution_count": 59,
   "metadata": {},
   "outputs": [
    {
     "data": {
      "text/plain": [
       "3    631\n",
       "0    349\n",
       "Name: Q30, dtype: int64"
      ]
     },
     "execution_count": 59,
     "metadata": {},
     "output_type": "execute_result"
    }
   ],
   "source": [
    "attention_check_failure_2_A = df[ (df['Q30'] == 2)].index\n",
    "attention_check_failure_2_B = df[ (df['Q30'] == 1)].index\n",
    "\n",
    "df.drop(attention_check_failure_2_A, inplace = True)\n",
    "df.drop(attention_check_failure_2_B, inplace = True)\n",
    "\n",
    "pd.value_counts(df['Q30'])"
   ]
  },
  {
   "cell_type": "code",
   "execution_count": 60,
   "metadata": {},
   "outputs": [],
   "source": [
    "df.fillna(0, inplace=True)"
   ]
  },
  {
   "cell_type": "markdown",
   "metadata": {},
   "source": [
    "_______"
   ]
  },
  {
   "cell_type": "markdown",
   "metadata": {},
   "source": [
    "## Topic #2: Number of people in household"
   ]
  },
  {
   "cell_type": "markdown",
   "metadata": {},
   "source": [
    "#### Average amount of people in a household is 2.83, max is 12, minimum is 1, median is 3"
   ]
  },
  {
   "cell_type": "code",
   "execution_count": 61,
   "metadata": {},
   "outputs": [
    {
     "data": {
      "text/plain": [
       "count    980.000000\n",
       "mean       2.808163\n",
       "std        1.507873\n",
       "min        0.000000\n",
       "25%        2.000000\n",
       "50%        2.500000\n",
       "75%        4.000000\n",
       "max       12.000000\n",
       "Name: Q2, dtype: float64"
      ]
     },
     "execution_count": 61,
     "metadata": {},
     "output_type": "execute_result"
    }
   ],
   "source": [
    "df['Q2'].describe()"
   ]
  },
  {
   "cell_type": "markdown",
   "metadata": {},
   "source": [
    "#### The number of people in households surveyed is right skewed, with the majority falling between 1 and 5 people per household."
   ]
  },
  {
   "cell_type": "code",
   "execution_count": 62,
   "metadata": {},
   "outputs": [
    {
     "data": {
      "text/plain": [
       "(array([203., 287., 178., 188.,  76.,  45.,   1.,   0.,   1.,   1.]),\n",
       " array([ 0. ,  1.2,  2.4,  3.6,  4.8,  6. ,  7.2,  8.4,  9.6, 10.8, 12. ]),\n",
       " <a list of 10 Patch objects>)"
      ]
     },
     "execution_count": 62,
     "metadata": {},
     "output_type": "execute_result"
    },
    {
     "data": {
      "image/png": "[encoded data removed]",
      "text/plain": [
       "<Figure size 432x288 with 1 Axes>"
      ]
     },
     "metadata": {
      "needs_background": "light"
     },
     "output_type": "display_data"
    }
   ],
   "source": [
    "plt.hist(df['Q2'])"
   ]
  },
  {
   "cell_type": "markdown",
   "metadata": {},
   "source": [
    "________"
   ]
  },
  {
   "cell_type": "markdown",
   "metadata": {},
   "source": [
    "## Topic #3: How many cars are owned or leased by the household"
   ]
  },
  {
   "cell_type": "markdown",
   "metadata": {},
   "source": [
    "#### Average amount of cars is 1.8, min is 0, max is 10."
   ]
  },
  {
   "cell_type": "code",
   "execution_count": 63,
   "metadata": {},
   "outputs": [
    {
     "data": {
      "text/plain": [
       "count    980.000000\n",
       "mean       1.532653\n",
       "std        1.170786\n",
       "min        0.000000\n",
       "25%        1.000000\n",
       "50%        1.000000\n",
       "75%        2.000000\n",
       "max       10.000000\n",
       "Name: Q4, dtype: float64"
      ]
     },
     "execution_count": 63,
     "metadata": {},
     "output_type": "execute_result"
    }
   ],
   "source": [
    "df['Q4'].describe()"
   ]
  },
  {
   "cell_type": "markdown",
   "metadata": {},
   "source": [
    "#### \"Does anyone in your household own or lease a car?\""
   ]
  },
  {
   "cell_type": "code",
   "execution_count": 64,
   "metadata": {},
   "outputs": [
    {
     "data": {
      "text/plain": [
       "Yes    833\n",
       "No     147\n",
       "Name: Q3, dtype: int64"
      ]
     },
     "execution_count": 64,
     "metadata": {},
     "output_type": "execute_result"
    }
   ],
   "source": [
    "df['Q3'].value_counts()"
   ]
  },
  {
   "cell_type": "markdown",
   "metadata": {},
   "source": [
    "__________"
   ]
  },
  {
   "cell_type": "markdown",
   "metadata": {},
   "source": [
    "## Topic #4: How much money is spent on gasoline per month"
   ]
  },
  {
   "cell_type": "markdown",
   "metadata": {},
   "source": [
    "#### There is a respondent that marked 50,000 USD as the amount that they spend on gasoline per month.\n",
    "\n",
    "#### We are dropping observations in which more than 1,000 USD is supposedly spent on gasoline per month. (The average cost of gas per month is 250 USD.)\n",
    "\n",
    "#### Median amount of money spent on gasoline per month is 60 USD."
   ]
  },
  {
   "cell_type": "code",
   "execution_count": 65,
   "metadata": {},
   "outputs": [
    {
     "data": {
      "text/plain": [
       "count     980.000000\n",
       "mean       93.336929\n",
       "std       122.264579\n",
       "min         0.000000\n",
       "25%        20.000000\n",
       "50%        60.000000\n",
       "75%       100.000000\n",
       "max      1000.000000\n",
       "Name: Q5, dtype: float64"
      ]
     },
     "execution_count": 65,
     "metadata": {},
     "output_type": "execute_result"
    }
   ],
   "source": [
    "df[\"Q5\"].describe()"
   ]
  },
  {
   "cell_type": "code",
   "execution_count": 66,
   "metadata": {},
   "outputs": [],
   "source": [
    "gasoline_outlier = df[ (df['Q5'] > 1000)].index\n",
    "df.drop(gasoline_outlier, inplace=True)"
   ]
  },
  {
   "cell_type": "code",
   "execution_count": 67,
   "metadata": {},
   "outputs": [
    {
     "data": {
      "text/plain": [
       "count     980.000000\n",
       "mean       93.336929\n",
       "std       122.264579\n",
       "min         0.000000\n",
       "25%        20.000000\n",
       "50%        60.000000\n",
       "75%       100.000000\n",
       "max      1000.000000\n",
       "Name: Q5, dtype: float64"
      ]
     },
     "execution_count": 67,
     "metadata": {},
     "output_type": "execute_result"
    }
   ],
   "source": [
    "df[\"Q5\"].describe()"
   ]
  },
  {
   "cell_type": "markdown",
   "metadata": {},
   "source": [
    "________"
   ]
  },
  {
   "cell_type": "markdown",
   "metadata": {},
   "source": [
    "## Topic #5: How much time is spent in the car per week"
   ]
  },
  {
   "cell_type": "markdown",
   "metadata": {},
   "source": [
    "#### Logically, one will not spend more than 70 hours per week in the car, unless they work in their car or live in their car. We are cutting observations with more than 70 hours per week spent in the car."
   ]
  },
  {
   "cell_type": "code",
   "execution_count": 68,
   "metadata": {},
   "outputs": [
    {
     "data": {
      "text/plain": [
       "count    980.000000\n",
       "mean       6.286878\n",
       "std        8.276970\n",
       "min        0.000000\n",
       "25%        1.000000\n",
       "50%        4.000000\n",
       "75%        8.000000\n",
       "max       70.000000\n",
       "Name: Q6, dtype: float64"
      ]
     },
     "execution_count": 68,
     "metadata": {},
     "output_type": "execute_result"
    }
   ],
   "source": [
    "df[\"Q6\"].describe()"
   ]
  },
  {
   "cell_type": "code",
   "execution_count": 69,
   "metadata": {},
   "outputs": [],
   "source": [
    "car_time_outlier = df[ (df['Q6'] > 70)].index\n",
    "df.drop(car_time_outlier, inplace=True)"
   ]
  },
  {
   "cell_type": "markdown",
   "metadata": {},
   "source": [
    "#### We now have 980 valid observations and can continue into the next phase of the survey."
   ]
  },
  {
   "cell_type": "markdown",
   "metadata": {},
   "source": [
    "_____________"
   ]
  },
  {
   "cell_type": "markdown",
   "metadata": {},
   "source": [
    "## Topic #6: Respondent opinions regarding car ownership"
   ]
  },
  {
   "cell_type": "markdown",
   "metadata": {},
   "source": [
    "#### \"How important is your car's brand to you?\""
   ]
  },
  {
   "cell_type": "code",
   "execution_count": 70,
   "metadata": {},
   "outputs": [
    {
     "data": {
      "text/plain": [
       "0                       153\n",
       "Somewhat agree          149\n",
       "Moderately important    133\n",
       "Very important          118\n",
       "Strongly agree           99\n",
       "Neutral                  94\n",
       "Extremely important      74\n",
       "Slightly important       66\n",
       "Somewhat disagree        42\n",
       "Not at all important     35\n",
       "Strongly disagree        17\n",
       "Name: Q9, dtype: int64"
      ]
     },
     "execution_count": 70,
     "metadata": {},
     "output_type": "execute_result"
    }
   ],
   "source": [
    "pd.value_counts(df['Q9'])"
   ]
  },
  {
   "cell_type": "markdown",
   "metadata": {},
   "source": [
    "#### \"How important is owning a car to you?\""
   ]
  },
  {
   "cell_type": "code",
   "execution_count": 71,
   "metadata": {},
   "outputs": [
    {
     "data": {
      "text/plain": [
       "Strongly agree          214\n",
       "Extremely important     164\n",
       "0                       151\n",
       "Very important          130\n",
       "Somewhat agree          115\n",
       "Moderately important     77\n",
       "Neutral                  52\n",
       "Slightly important       36\n",
       "Not at all important     21\n",
       "Strongly disagree        11\n",
       "Somewhat disagree         9\n",
       "Name: Q10, dtype: int64"
      ]
     },
     "execution_count": 71,
     "metadata": {},
     "output_type": "execute_result"
    }
   ],
   "source": [
    "pd.value_counts(df['Q10'])\n",
    "\n",
    "#strongly agree\n",
    "#somewhat agree\n",
    "#Neutral\n",
    "#Somewhat disagree\n",
    "#Strongly disagree\n",
    "\n",
    "#extremely important\n",
    "#very important\n",
    "#moderately important\n",
    "#Slightly important\n",
    "#Not at all important"
   ]
  },
  {
   "cell_type": "markdown",
   "metadata": {},
   "source": [
    "#### \"Would you ever consider giving up your car in favor of alternate forms of transportation?\""
   ]
  },
  {
   "cell_type": "code",
   "execution_count": 72,
   "metadata": {},
   "outputs": [
    {
     "ename": "TypeError",
     "evalue": "bar() missing 1 required positional argument: 'height'",
     "output_type": "error",
     "traceback": [
      "\u001b[0;31m---------------------------------------------------------------------------\u001b[0m",
      "\u001b[0;31mTypeError\u001b[0m                                 Traceback (most recent call last)",
      "\u001b[0;32m<ipython-input-72-0c2e14673177>\u001b[0m in \u001b[0;36m<module>\u001b[0;34m\u001b[0m\n\u001b[1;32m     19\u001b[0m \u001b[0;31m#strongly agree/ yes = 5\u001b[0m\u001b[0;34m\u001b[0m\u001b[0;34m\u001b[0m\u001b[0;34m\u001b[0m\u001b[0m\n\u001b[1;32m     20\u001b[0m \u001b[0;34m\u001b[0m\u001b[0m\n\u001b[0;32m---> 21\u001b[0;31m \u001b[0mplt\u001b[0m\u001b[0;34m.\u001b[0m\u001b[0mbar\u001b[0m\u001b[0;34m(\u001b[0m\u001b[0mdata_c\u001b[0m\u001b[0;34m[\u001b[0m\u001b[0;34m'Q11'\u001b[0m\u001b[0;34m]\u001b[0m\u001b[0;34m)\u001b[0m\u001b[0;34m\u001b[0m\u001b[0;34m\u001b[0m\u001b[0m\n\u001b[0m",
      "\u001b[0;31mTypeError\u001b[0m: bar() missing 1 required positional argument: 'height'"
     ]
    }
   ],
   "source": [
    "data_c = df.copy()\n",
    "\n",
    "data_c['Q11'] = data_c.Q11.map({\n",
    "                        0:2,\n",
    "                        'Strongly disagree':0,\n",
    "                        'No':0,\n",
    "                        'Somewhat disagree':1,\n",
    "                        'Neutral':2,\n",
    "                        'Maybe':2,\n",
    "                        'Somewhat agree':3,\n",
    "                        'Strongly agree':4,\n",
    "                        'Yes':4,\n",
    "                        })\n",
    "\n",
    "#strongly disagree / no = 1\n",
    "#somewhat disagree = 2\n",
    "#neutral/ maybe = 3\n",
    "#somewhat agree = 4\n",
    "#strongly agree/ yes = 5\n",
    "\n",
    "plt.bar(data_c['Q11'])"
   ]
  },
  {
   "cell_type": "markdown",
   "metadata": {},
   "source": [
    "## Topic #7: Respondent opinions regarding ride sharing usage"
   ]
  },
  {
   "cell_type": "markdown",
   "metadata": {},
   "source": [
    "#### \"Do you use ride-sharing services like Uber or Lyft?\""
   ]
  },
  {
   "cell_type": "code",
   "execution_count": 73,
   "metadata": {},
   "outputs": [
    {
     "data": {
      "text/plain": [
       "No     551\n",
       "Yes    429\n",
       "Name: Q12, dtype: int64"
      ]
     },
     "execution_count": 73,
     "metadata": {},
     "output_type": "execute_result"
    }
   ],
   "source": [
    "pd.value_counts(df['Q12'])"
   ]
  },
  {
   "cell_type": "markdown",
   "metadata": {},
   "source": [
    "#### \"On average, how many times a month do you use ride-share services?\""
   ]
  },
  {
   "cell_type": "code",
   "execution_count": 74,
   "metadata": {},
   "outputs": [
    {
     "data": {
      "text/plain": [
       "count    980.000000\n",
       "mean       1.301786\n",
       "std        2.790627\n",
       "min        0.000000\n",
       "25%        0.000000\n",
       "50%        0.000000\n",
       "75%        2.000000\n",
       "max       36.000000\n",
       "Name: Q13, dtype: float64"
      ]
     },
     "execution_count": 74,
     "metadata": {},
     "output_type": "execute_result"
    }
   ],
   "source": [
    "df['Q13'].describe()"
   ]
  },
  {
   "cell_type": "markdown",
   "metadata": {},
   "source": [
    "#### For what purpose(s) do you typically use ride-share services? "
   ]
  },
  {
   "cell_type": "code",
   "execution_count": 75,
   "metadata": {},
   "outputs": [
    {
     "data": {
      "text/plain": [
       "0                                                                       750\n",
       "Visiting a bar/restaurant                                                67\n",
       "Traveling to the airport                                                 39\n",
       "Commuting to work                                                        27\n",
       "Other                                                                    26\n",
       "Traveling to the airport,Visiting a bar/restaurant                       25\n",
       "Commuting to work,Visiting a bar/restaurant                              10\n",
       "Commuting to work,Traveling to the airport                                9\n",
       "Commuting to work,Traveling to the airport,Visiting a bar/restaurant      9\n",
       "Traveling to the airport,Visiting a bar/restaurant,Other                  5\n",
       "Visiting a bar/restaurant,Other                                           5\n",
       "Traveling to the airport,Other                                            4\n",
       "Commuting to work,Other                                                   3\n",
       "Commuting to work,Visiting a bar/restaurant,Other                         1\n",
       "Name: Q14, dtype: int64"
      ]
     },
     "execution_count": 75,
     "metadata": {},
     "output_type": "execute_result"
    }
   ],
   "source": [
    "df['Q14'].value_counts()"
   ]
  },
  {
   "cell_type": "markdown",
   "metadata": {},
   "source": [
    "#### \"Please rate your agreement with the following statements regarding ride sharing apps.\n",
    "\n",
    "#### I feel safe when I use ride sharing services.\""
   ]
  },
  {
   "cell_type": "code",
   "execution_count": 76,
   "metadata": {},
   "outputs": [
    {
     "data": {
      "text/plain": [
       "0                    551\n",
       "Neutral              122\n",
       "Agree                103\n",
       "Somewhat agree        95\n",
       "Strongly agree        84\n",
       "Disagree              11\n",
       "Strongly disagree      8\n",
       "Somewhat disagree      6\n",
       "Name: Q18_1, dtype: int64"
      ]
     },
     "execution_count": 76,
     "metadata": {},
     "output_type": "execute_result"
    }
   ],
   "source": [
    "df['Q18_1'].value_counts()"
   ]
  },
  {
   "cell_type": "markdown",
   "metadata": {},
   "source": [
    "#### \"I use ride-sharing services because it is better for the environment than owning a car.\""
   ]
  },
  {
   "cell_type": "code",
   "execution_count": 77,
   "metadata": {},
   "outputs": [
    {
     "data": {
      "text/plain": [
       "0                    551\n",
       "Neutral              158\n",
       "Strongly disagree     57\n",
       "Disagree              56\n",
       "Somewhat disagree     46\n",
       "Agree                 45\n",
       "Somewhat agree        35\n",
       "Strongly agree        32\n",
       "Name: Q18_2, dtype: int64"
      ]
     },
     "execution_count": 77,
     "metadata": {},
     "output_type": "execute_result"
    }
   ],
   "source": [
    "df['Q18_2'].value_counts()"
   ]
  },
  {
   "cell_type": "markdown",
   "metadata": {},
   "source": [
    "#### \"I use ride-sharing services because I can’t afford to buy a car.\""
   ]
  },
  {
   "cell_type": "code",
   "execution_count": 50,
   "metadata": {},
   "outputs": [
    {
     "data": {
      "text/plain": [
       "0                    552\n",
       "Strongly disagree    193\n",
       "Disagree              60\n",
       "Neutral               45\n",
       "Somewhat disagree     39\n",
       "Strongly agree        36\n",
       "Somewhat agree        28\n",
       "Agree                 27\n",
       "Name: Q18_3, dtype: int64"
      ]
     },
     "execution_count": 50,
     "metadata": {},
     "output_type": "execute_result"
    }
   ],
   "source": [
    "df['Q18_3'].value_counts()"
   ]
  },
  {
   "cell_type": "markdown",
   "metadata": {},
   "source": [
    "#### \"I would use ride sharing services less if parking were better where I live.\""
   ]
  },
  {
   "cell_type": "code",
   "execution_count": 68,
   "metadata": {},
   "outputs": [
    {
     "data": {
      "text/plain": [
       "0                    553\n",
       "Neutral              114\n",
       "Strongly disagree     71\n",
       "Agree                 59\n",
       "Disagree              54\n",
       "Strongly agree        53\n",
       "Somewhat agree        42\n",
       "Somewhat disagree     34\n",
       "Name: Q18_4, dtype: int64"
      ]
     },
     "execution_count": 68,
     "metadata": {},
     "output_type": "execute_result"
    }
   ],
   "source": [
    "df['Q18_4'].value_counts()"
   ]
  },
  {
   "cell_type": "markdown",
   "metadata": {},
   "source": [
    "## Topic #8: Respondent opinions regarding bike and scooter rental usage"
   ]
  },
  {
   "cell_type": "markdown",
   "metadata": {},
   "source": [
    "#### \"Do you use alternative transportation rentals like rental bikes and scooters?\""
   ]
  },
  {
   "cell_type": "code",
   "execution_count": 52,
   "metadata": {},
   "outputs": [
    {
     "data": {
      "text/plain": [
       "No     595\n",
       "0      273\n",
       "Yes    112\n",
       "Name: Q19, dtype: int64"
      ]
     },
     "execution_count": 52,
     "metadata": {},
     "output_type": "execute_result"
    }
   ],
   "source": [
    "df['Q19'].value_counts()"
   ]
  },
  {
   "cell_type": "markdown",
   "metadata": {},
   "source": [
    "#### \"What do you use?\""
   ]
  },
  {
   "cell_type": "code",
   "execution_count": 53,
   "metadata": {},
   "outputs": [
    {
     "data": {
      "text/plain": [
       "0                 867\n",
       "Rental bike        53\n",
       "Both               39\n",
       "Rental scooter     21\n",
       "Name: Q20, dtype: int64"
      ]
     },
     "execution_count": 53,
     "metadata": {},
     "output_type": "execute_result"
    }
   ],
   "source": [
    "df['Q20'].value_counts()"
   ]
  },
  {
   "cell_type": "markdown",
   "metadata": {},
   "source": [
    "#### \"How often do you use rental bikes and/or scooters in the average month?\""
   ]
  },
  {
   "cell_type": "code",
   "execution_count": 66,
   "metadata": {},
   "outputs": [
    {
     "data": {
      "text/plain": [
       "count    980.000000\n",
       "mean       0.519898\n",
       "std        2.614949\n",
       "min        0.000000\n",
       "25%        0.000000\n",
       "50%        0.000000\n",
       "75%        0.000000\n",
       "max       50.000000\n",
       "Name: Q21, dtype: float64"
      ]
     },
     "execution_count": 66,
     "metadata": {},
     "output_type": "execute_result"
    }
   ],
   "source": [
    "df[\"Q21\"].describe()"
   ]
  },
  {
   "cell_type": "markdown",
   "metadata": {},
   "source": [
    "#### \"Please rate your agreement with the following statements about rental bikes and/or scooters.\n",
    "\n",
    "#### I feel safe riding rental bikes.\""
   ]
  },
  {
   "cell_type": "code",
   "execution_count": 55,
   "metadata": {},
   "outputs": [
    {
     "data": {
      "text/plain": [
       "0                    867\n",
       "Strongly agree        36\n",
       "Neutral               24\n",
       "Somewhat agree        22\n",
       "Agree                 22\n",
       "Disagree               5\n",
       "Strongly disagree      2\n",
       "Somewhat disagree      2\n",
       "Name: Q22_1, dtype: int64"
      ]
     },
     "execution_count": 55,
     "metadata": {},
     "output_type": "execute_result"
    }
   ],
   "source": [
    "df['Q22_1'].value_counts()"
   ]
  },
  {
   "cell_type": "markdown",
   "metadata": {},
   "source": [
    "#### \"I feel safe riding rental scooters.\""
   ]
  },
  {
   "cell_type": "code",
   "execution_count": 56,
   "metadata": {},
   "outputs": [
    {
     "data": {
      "text/plain": [
       "0                    868\n",
       "Neutral               31\n",
       "Strongly agree        29\n",
       "Somewhat agree        19\n",
       "Agree                 18\n",
       "Disagree               7\n",
       "Somewhat disagree      5\n",
       "Strongly disagree      3\n",
       "Name: Q22_2, dtype: int64"
      ]
     },
     "execution_count": 56,
     "metadata": {},
     "output_type": "execute_result"
    }
   ],
   "source": [
    "df['Q22_2'].value_counts()"
   ]
  },
  {
   "cell_type": "markdown",
   "metadata": {},
   "source": [
    "#### \"I use rental bikes/scooters because they are fun.\""
   ]
  },
  {
   "cell_type": "code",
   "execution_count": 57,
   "metadata": {},
   "outputs": [
    {
     "data": {
      "text/plain": [
       "0                    869\n",
       "Strongly agree        41\n",
       "Agree                 29\n",
       "Somewhat agree        25\n",
       "Neutral               11\n",
       "Disagree               3\n",
       "Strongly disagree      1\n",
       "Somewhat disagree      1\n",
       "Name: Q22_3, dtype: int64"
      ]
     },
     "execution_count": 57,
     "metadata": {},
     "output_type": "execute_result"
    }
   ],
   "source": [
    "df['Q22_3'].value_counts()"
   ]
  },
  {
   "cell_type": "markdown",
   "metadata": {},
   "source": [
    "#### \"I use rental bikes/scooters because parking is difficult where I live.\""
   ]
  },
  {
   "cell_type": "code",
   "execution_count": 58,
   "metadata": {},
   "outputs": [
    {
     "data": {
      "text/plain": [
       "0                    868\n",
       "Neutral               25\n",
       "Strongly agree        21\n",
       "Agree                 18\n",
       "Somewhat agree        14\n",
       "Disagree              14\n",
       "Strongly disagree     13\n",
       "Somewhat disagree      7\n",
       "Name: Q22_4, dtype: int64"
      ]
     },
     "execution_count": 58,
     "metadata": {},
     "output_type": "execute_result"
    }
   ],
   "source": [
    "df['Q22_4'].value_counts()"
   ]
  },
  {
   "cell_type": "markdown",
   "metadata": {},
   "source": [
    "#### \"I feel safe using bike lanes in cities.\""
   ]
  },
  {
   "cell_type": "code",
   "execution_count": 59,
   "metadata": {},
   "outputs": [
    {
     "data": {
      "text/plain": [
       "0                    868\n",
       "Strongly agree        31\n",
       "Neutral               30\n",
       "Somewhat agree        18\n",
       "Agree                 12\n",
       "Strongly disagree     11\n",
       "Disagree               8\n",
       "Somewhat disagree      2\n",
       "Name: Q22_5, dtype: int64"
      ]
     },
     "execution_count": 59,
     "metadata": {},
     "output_type": "execute_result"
    }
   ],
   "source": [
    "df['Q22_5'].value_counts()"
   ]
  },
  {
   "cell_type": "markdown",
   "metadata": {},
   "source": [
    "## Topic #8: Respondent opinions regarding bike and scooter ownership"
   ]
  },
  {
   "cell_type": "markdown",
   "metadata": {},
   "source": [
    "#### \"Do you own a bicycle or scooter?\""
   ]
  },
  {
   "cell_type": "code",
   "execution_count": 60,
   "metadata": {},
   "outputs": [
    {
     "data": {
      "text/plain": [
       "No     596\n",
       "Yes    381\n",
       "0        3\n",
       "Name: Q23, dtype: int64"
      ]
     },
     "execution_count": 60,
     "metadata": {},
     "output_type": "execute_result"
    }
   ],
   "source": [
    "df['Q23'].value_counts()"
   ]
  },
  {
   "cell_type": "markdown",
   "metadata": {},
   "source": [
    "#### \"Please rate your agreement with the following statements about bikes and/or scooters.\n",
    "\n",
    "#### I feel safe riding my bike/scooter in the town/suburb/city where I live.\""
   ]
  },
  {
   "cell_type": "code",
   "execution_count": 82,
   "metadata": {},
   "outputs": [
    {
     "data": {
      "text/plain": [
       "0                    596\n",
       "Strongly agree        95\n",
       "Neutral               85\n",
       "Agree                 67\n",
       "Somewhat agree        61\n",
       "Somewhat disagree     29\n",
       "Strongly disagree     26\n",
       "Disagree              21\n",
       "Name: Q24_1, dtype: int64"
      ]
     },
     "execution_count": 82,
     "metadata": {},
     "output_type": "execute_result"
    }
   ],
   "source": [
    "data['Q24_1'].value_counts()"
   ]
  },
  {
   "cell_type": "markdown",
   "metadata": {},
   "source": [
    "#### \"I use my bike/scooter as a main method of transportation.\""
   ]
  },
  {
   "cell_type": "code",
   "execution_count": 62,
   "metadata": {},
   "outputs": [
    {
     "data": {
      "text/plain": [
       "0                    596\n",
       "Strongly disagree    197\n",
       "Disagree              57\n",
       "Neutral               36\n",
       "Somewhat disagree     33\n",
       "Strongly agree        25\n",
       "Somewhat agree        19\n",
       "Agree                 17\n",
       "Name: Q24_2, dtype: int64"
      ]
     },
     "execution_count": 62,
     "metadata": {},
     "output_type": "execute_result"
    }
   ],
   "source": [
    "df['Q24_2'].value_counts()"
   ]
  },
  {
   "cell_type": "markdown",
   "metadata": {},
   "source": [
    "#### \"My bike/scooter is reliable.\""
   ]
  },
  {
   "cell_type": "code",
   "execution_count": 63,
   "metadata": {},
   "outputs": [
    {
     "data": {
      "text/plain": [
       "0                    596\n",
       "Strongly agree       112\n",
       "Agree                 91\n",
       "Neutral               74\n",
       "Somewhat agree        70\n",
       "Disagree              15\n",
       "Strongly disagree     12\n",
       "Somewhat disagree     10\n",
       "Name: Q24_3, dtype: int64"
      ]
     },
     "execution_count": 63,
     "metadata": {},
     "output_type": "execute_result"
    }
   ],
   "source": [
    "df['Q24_3'].value_counts()"
   ]
  },
  {
   "cell_type": "markdown",
   "metadata": {},
   "source": [
    "#### \"I ride my bike/scooter year-round (in every season.)\""
   ]
  },
  {
   "cell_type": "code",
   "execution_count": 64,
   "metadata": {},
   "outputs": [
    {
     "data": {
      "text/plain": [
       "0                    596\n",
       "Strongly disagree    100\n",
       "Neutral               74\n",
       "Disagree              52\n",
       "Strongly agree        43\n",
       "Agree                 39\n",
       "Somewhat disagree     38\n",
       "Somewhat agree        38\n",
       "Name: Q24_4, dtype: int64"
      ]
     },
     "execution_count": 64,
     "metadata": {},
     "output_type": "execute_result"
    }
   ],
   "source": [
    "df['Q24_4'].value_counts()"
   ]
  },
  {
   "cell_type": "markdown",
   "metadata": {},
   "source": [
    "#### \"How much money did your bike/scooter cost?\""
   ]
  },
  {
   "cell_type": "code",
   "execution_count": 65,
   "metadata": {},
   "outputs": [
    {
     "data": {
      "text/plain": [
       "count      980.000000\n",
       "mean       171.636347\n",
       "std        810.847020\n",
       "min          0.000000\n",
       "25%          0.000000\n",
       "50%          0.000000\n",
       "75%        125.000000\n",
       "max      18000.000000\n",
       "Name: Q25, dtype: float64"
      ]
     },
     "execution_count": 65,
     "metadata": {},
     "output_type": "execute_result"
    }
   ],
   "source": [
    "df['Q25'].describe()"
   ]
  },
  {
   "cell_type": "markdown",
   "metadata": {},
   "source": [
    "## Topic #9: Demographics"
   ]
  },
  {
   "cell_type": "markdown",
   "metadata": {},
   "source": [
    "#### \"What is your age?\""
   ]
  },
  {
   "cell_type": "code",
   "execution_count": 114,
   "metadata": {},
   "outputs": [
    {
     "data": {
      "text/plain": [
       "count    980.000000\n",
       "mean      46.045918\n",
       "std       16.098044\n",
       "min       13.000000\n",
       "25%       34.000000\n",
       "50%       45.000000\n",
       "75%       59.000000\n",
       "max       86.000000\n",
       "Name: Q26, dtype: float64"
      ]
     },
     "execution_count": 114,
     "metadata": {},
     "output_type": "execute_result"
    }
   ],
   "source": [
    "df['Q26'].describe()"
   ]
  },
  {
   "cell_type": "markdown",
   "metadata": {},
   "source": [
    "#### \"What is your gender?\""
   ]
  },
  {
   "cell_type": "code",
   "execution_count": 80,
   "metadata": {},
   "outputs": [
    {
     "data": {
      "text/plain": [
       "Female                  617\n",
       "Male                    362\n",
       "Prefer not to answer      1\n",
       "Name: Q28, dtype: int64"
      ]
     },
     "execution_count": 80,
     "metadata": {},
     "output_type": "execute_result"
    }
   ],
   "source": [
    "data['Q28'].value_counts()"
   ]
  },
  {
   "cell_type": "markdown",
   "metadata": {},
   "source": [
    "#### \"What is your race?\""
   ]
  },
  {
   "cell_type": "code",
   "execution_count": 81,
   "metadata": {},
   "outputs": [
    {
     "data": {
      "text/plain": [
       "White                                        674\n",
       "Black or African American                    145\n",
       "Asian                                         65\n",
       "Hispanic/Latino-American                      34\n",
       "Other                                         26\n",
       "Prefer not to answer                          12\n",
       "Multi-racial                                  10\n",
       "Indian-American                                7\n",
       "American Indian or Alaska Native               5\n",
       "Native Hawaiian or Other Pacific Islander      2\n",
       "Name: Q29, dtype: int64"
      ]
     },
     "execution_count": 81,
     "metadata": {},
     "output_type": "execute_result"
    }
   ],
   "source": [
    "data['Q29'].value_counts()"
   ]
  },
  {
   "cell_type": "markdown",
   "metadata": {},
   "source": [
    " # Note- look into making interactive zip code dashboard!!"
   ]
  },
  {
   "cell_type": "markdown",
   "metadata": {},
   "source": [
    "Regression\n",
    "continuous:\n",
    "\n",
    "age\n",
    "\n",
    "\"How much money did your bike/scooter cost?\"\n",
    "\n",
    "\"How often do you use rental bikes and/or scooters in the average month?\"\n",
    "\n",
    "\"On average, how many times a month do you use ride-share services?\"\n",
    "\n",
    "How much time is spent in the car per week\n",
    "\n",
    "How much money is spent on gasoline per month\n",
    "\n",
    "How many cars are owned or leased by the household\n",
    "\n",
    "Number of people in household"
   ]
  },
  {
   "cell_type": "markdown",
   "metadata": {},
   "source": [
    "### SLIDE 16"
   ]
  },
  {
   "cell_type": "code",
   "execution_count": 3,
   "metadata": {},
   "outputs": [],
   "source": [
    "data = pd.read_excel('/Users/zoezirlin/Dropbox/My Mac (Zoe’s MacBook Pro (2))/Desktop/raw_lyft.xlsx')\n",
    "zips = pd.read_excel('/Users/zoezirlin/Desktop/uszips.xlsx')"
   ]
  },
  {
   "cell_type": "code",
   "execution_count": 4,
   "metadata": {},
   "outputs": [],
   "source": [
    "data = data.rename(columns={\"Q27\": \"zip\"})"
   ]
  },
  {
   "cell_type": "code",
   "execution_count": 5,
   "metadata": {},
   "outputs": [],
   "source": [
    "zip_data = pd.merge(zips, data, on='zip')"
   ]
  },
  {
   "cell_type": "code",
   "execution_count": 6,
   "metadata": {},
   "outputs": [
    {
     "data": {
      "text/html": [
       "<div>\n",
       "<style scoped>\n",
       "    .dataframe tbody tr th:only-of-type {\n",
       "        vertical-align: middle;\n",
       "    }\n",
       "\n",
       "    .dataframe tbody tr th {\n",
       "        vertical-align: top;\n",
       "    }\n",
       "\n",
       "    .dataframe thead th {\n",
       "        text-align: right;\n",
       "    }\n",
       "</style>\n",
       "<table border=\"1\" class=\"dataframe\">\n",
       "  <thead>\n",
       "    <tr style=\"text-align: right;\">\n",
       "      <th></th>\n",
       "      <th>zip</th>\n",
       "      <th>lat</th>\n",
       "      <th>lng</th>\n",
       "      <th>city</th>\n",
       "      <th>state_id</th>\n",
       "      <th>state_name</th>\n",
       "      <th>zcta</th>\n",
       "      <th>parent_zcta</th>\n",
       "      <th>population</th>\n",
       "      <th>density</th>\n",
       "      <th>...</th>\n",
       "      <th>Q22_5</th>\n",
       "      <th>Q23</th>\n",
       "      <th>Q24_1</th>\n",
       "      <th>Q24_2</th>\n",
       "      <th>Q24_3</th>\n",
       "      <th>Q24_4</th>\n",
       "      <th>Q25</th>\n",
       "      <th>Q26</th>\n",
       "      <th>Q28</th>\n",
       "      <th>Q29</th>\n",
       "    </tr>\n",
       "  </thead>\n",
       "  <tbody>\n",
       "    <tr>\n",
       "      <th>0</th>\n",
       "      <td>1520</td>\n",
       "      <td>42.33536</td>\n",
       "      <td>-71.85284</td>\n",
       "      <td>Holden</td>\n",
       "      <td>MA</td>\n",
       "      <td>Massachusetts</td>\n",
       "      <td>True</td>\n",
       "      <td>NaN</td>\n",
       "      <td>15645</td>\n",
       "      <td>298.9</td>\n",
       "      <td>...</td>\n",
       "      <td>0</td>\n",
       "      <td>Yes</td>\n",
       "      <td>Strongly agree</td>\n",
       "      <td>Disagree</td>\n",
       "      <td>Agree</td>\n",
       "      <td>Agree</td>\n",
       "      <td>250.0</td>\n",
       "      <td>75</td>\n",
       "      <td>Female</td>\n",
       "      <td>White</td>\n",
       "    </tr>\n",
       "    <tr>\n",
       "      <th>1</th>\n",
       "      <td>1532</td>\n",
       "      <td>42.32315</td>\n",
       "      <td>-71.64621</td>\n",
       "      <td>Northborough</td>\n",
       "      <td>MA</td>\n",
       "      <td>Massachusetts</td>\n",
       "      <td>True</td>\n",
       "      <td>NaN</td>\n",
       "      <td>14985</td>\n",
       "      <td>295.9</td>\n",
       "      <td>...</td>\n",
       "      <td>0</td>\n",
       "      <td>Yes</td>\n",
       "      <td>Strongly agree</td>\n",
       "      <td>Disagree</td>\n",
       "      <td>Strongly agree</td>\n",
       "      <td>Agree</td>\n",
       "      <td>300.0</td>\n",
       "      <td>54</td>\n",
       "      <td>Female</td>\n",
       "      <td>White</td>\n",
       "    </tr>\n",
       "    <tr>\n",
       "      <th>2</th>\n",
       "      <td>1604</td>\n",
       "      <td>42.25146</td>\n",
       "      <td>-71.76773</td>\n",
       "      <td>Worcester</td>\n",
       "      <td>MA</td>\n",
       "      <td>Massachusetts</td>\n",
       "      <td>True</td>\n",
       "      <td>NaN</td>\n",
       "      <td>37468</td>\n",
       "      <td>2079.6</td>\n",
       "      <td>...</td>\n",
       "      <td>0</td>\n",
       "      <td>No</td>\n",
       "      <td>0</td>\n",
       "      <td>0</td>\n",
       "      <td>0</td>\n",
       "      <td>0</td>\n",
       "      <td>0.0</td>\n",
       "      <td>59</td>\n",
       "      <td>Female</td>\n",
       "      <td>White</td>\n",
       "    </tr>\n",
       "    <tr>\n",
       "      <th>3</th>\n",
       "      <td>1746</td>\n",
       "      <td>42.19775</td>\n",
       "      <td>-71.44499</td>\n",
       "      <td>Holliston</td>\n",
       "      <td>MA</td>\n",
       "      <td>Massachusetts</td>\n",
       "      <td>True</td>\n",
       "      <td>NaN</td>\n",
       "      <td>14634</td>\n",
       "      <td>280.4</td>\n",
       "      <td>...</td>\n",
       "      <td>0</td>\n",
       "      <td>Yes</td>\n",
       "      <td>Agree</td>\n",
       "      <td>Strongly disagree</td>\n",
       "      <td>Agree</td>\n",
       "      <td>Strongly disagree</td>\n",
       "      <td>100.0</td>\n",
       "      <td>68</td>\n",
       "      <td>Female</td>\n",
       "      <td>White</td>\n",
       "    </tr>\n",
       "    <tr>\n",
       "      <th>4</th>\n",
       "      <td>1757</td>\n",
       "      <td>42.15678</td>\n",
       "      <td>-71.51911</td>\n",
       "      <td>Milford</td>\n",
       "      <td>MA</td>\n",
       "      <td>Massachusetts</td>\n",
       "      <td>True</td>\n",
       "      <td>NaN</td>\n",
       "      <td>28862</td>\n",
       "      <td>727.4</td>\n",
       "      <td>...</td>\n",
       "      <td>0</td>\n",
       "      <td>Yes</td>\n",
       "      <td>Disagree</td>\n",
       "      <td>Strongly disagree</td>\n",
       "      <td>Agree</td>\n",
       "      <td>Disagree</td>\n",
       "      <td>600.0</td>\n",
       "      <td>49</td>\n",
       "      <td>Female</td>\n",
       "      <td>White</td>\n",
       "    </tr>\n",
       "  </tbody>\n",
       "</table>\n",
       "<p>5 rows × 57 columns</p>\n",
       "</div>"
      ],
      "text/plain": [
       "    zip       lat       lng          city state_id     state_name  zcta  \\\n",
       "0  1520  42.33536 -71.85284        Holden       MA  Massachusetts  True   \n",
       "1  1532  42.32315 -71.64621  Northborough       MA  Massachusetts  True   \n",
       "2  1604  42.25146 -71.76773     Worcester       MA  Massachusetts  True   \n",
       "3  1746  42.19775 -71.44499     Holliston       MA  Massachusetts  True   \n",
       "4  1757  42.15678 -71.51911       Milford       MA  Massachusetts  True   \n",
       "\n",
       "   parent_zcta  population  density  ...  Q22_5  Q23           Q24_1  \\\n",
       "0          NaN       15645    298.9  ...      0  Yes  Strongly agree   \n",
       "1          NaN       14985    295.9  ...      0  Yes  Strongly agree   \n",
       "2          NaN       37468   2079.6  ...      0   No               0   \n",
       "3          NaN       14634    280.4  ...      0  Yes           Agree   \n",
       "4          NaN       28862    727.4  ...      0  Yes        Disagree   \n",
       "\n",
       "               Q24_2           Q24_3              Q24_4    Q25 Q26     Q28  \\\n",
       "0           Disagree           Agree              Agree  250.0  75  Female   \n",
       "1           Disagree  Strongly agree              Agree  300.0  54  Female   \n",
       "2                  0               0                  0    0.0  59  Female   \n",
       "3  Strongly disagree           Agree  Strongly disagree  100.0  68  Female   \n",
       "4  Strongly disagree           Agree           Disagree  600.0  49  Female   \n",
       "\n",
       "     Q29  \n",
       "0  White  \n",
       "1  White  \n",
       "2  White  \n",
       "3  White  \n",
       "4  White  \n",
       "\n",
       "[5 rows x 57 columns]"
      ]
     },
     "execution_count": 6,
     "metadata": {},
     "output_type": "execute_result"
    }
   ],
   "source": [
    "zip_data.head()"
   ]
  },
  {
   "cell_type": "code",
   "execution_count": 45,
   "metadata": {},
   "outputs": [
    {
     "name": "stdout",
     "output_type": "stream",
     "text": [
      "                  zip       lat       lng  zcta  parent_zcta  population  \\\n",
      "zip          1.000000 -0.494370 -0.945557   NaN          NaN    0.073364   \n",
      "lat         -0.494370  1.000000  0.471303   NaN          NaN   -0.158218   \n",
      "lng         -0.945557  0.471303  1.000000   NaN          NaN   -0.061359   \n",
      "zcta              NaN       NaN       NaN   NaN          NaN         NaN   \n",
      "parent_zcta       NaN       NaN       NaN   NaN          NaN         NaN   \n",
      "population   0.073364 -0.158218 -0.061359   NaN          NaN    1.000000   \n",
      "density     -0.255440  0.185532  0.214116   NaN          NaN    0.331395   \n",
      "county_fips -0.293781  0.187040  0.441954   NaN          NaN   -0.032139   \n",
      "imprecise         NaN       NaN       NaN   NaN          NaN         NaN   \n",
      "military          NaN       NaN       NaN   NaN          NaN         NaN   \n",
      "Q2           0.014539 -0.041082 -0.008814   NaN          NaN    0.019308   \n",
      "Q4           0.027396 -0.056170 -0.029603   NaN          NaN   -0.131211   \n",
      "Q5           0.011052 -0.060979 -0.015223   NaN          NaN   -0.028027   \n",
      "Q6           0.030565 -0.072245 -0.012438   NaN          NaN   -0.000987   \n",
      "Q9_num      -0.039149 -0.041763  0.048439   NaN          NaN    0.038085   \n",
      "Q10_num      0.046314 -0.008177 -0.034307   NaN          NaN   -0.058108   \n",
      "Q11_num      0.008890  0.009129 -0.011862   NaN          NaN    0.067035   \n",
      "Q30          0.017849  0.036843 -0.043930   NaN          NaN   -0.095889   \n",
      "Q13          0.000270  0.033006 -0.005084   NaN          NaN    0.076626   \n",
      "Q21          0.014078 -0.011246 -0.022482   NaN          NaN    0.006245   \n",
      "Q25          0.036939 -0.009529 -0.048082   NaN          NaN   -0.064643   \n",
      "Q26         -0.045482  0.029603  0.067062   NaN          NaN   -0.078928   \n",
      "\n",
      "              density  county_fips  imprecise  military  ...        Q5  \\\n",
      "zip         -0.255440    -0.293781        NaN       NaN  ...  0.011052   \n",
      "lat          0.185532     0.187040        NaN       NaN  ... -0.060979   \n",
      "lng          0.214116     0.441954        NaN       NaN  ... -0.015223   \n",
      "zcta              NaN          NaN        NaN       NaN  ...       NaN   \n",
      "parent_zcta       NaN          NaN        NaN       NaN  ...       NaN   \n",
      "population   0.331395    -0.032139        NaN       NaN  ... -0.028027   \n",
      "density      1.000000     0.116711        NaN       NaN  ...  0.081640   \n",
      "county_fips  0.116711     1.000000        NaN       NaN  ...  0.051755   \n",
      "imprecise         NaN          NaN        NaN       NaN  ...       NaN   \n",
      "military          NaN          NaN        NaN       NaN  ...       NaN   \n",
      "Q2           0.037838     0.029152        NaN       NaN  ...  0.280602   \n",
      "Q4          -0.204765    -0.015717        NaN       NaN  ...  0.245586   \n",
      "Q5           0.081640     0.051755        NaN       NaN  ...  1.000000   \n",
      "Q6           0.012533     0.074896        NaN       NaN  ...  0.375790   \n",
      "Q9_num       0.124043     0.003604        NaN       NaN  ...  0.133664   \n",
      "Q10_num     -0.054933    -0.036585        NaN       NaN  ...  0.014886   \n",
      "Q11_num      0.137955     0.019634        NaN       NaN  ...  0.074489   \n",
      "Q30         -0.018021    -0.011688        NaN       NaN  ...  0.242002   \n",
      "Q13          0.170754    -0.006183        NaN       NaN  ...  0.097916   \n",
      "Q21          0.080370    -0.048929        NaN       NaN  ...  0.058275   \n",
      "Q25          0.042433    -0.036374        NaN       NaN  ...  0.205922   \n",
      "Q26         -0.122823     0.002291        NaN       NaN  ... -0.159035   \n",
      "\n",
      "                   Q6    Q9_num   Q10_num   Q11_num       Q30       Q13  \\\n",
      "zip          0.030565 -0.039149  0.046314  0.008890  0.017849  0.000270   \n",
      "lat         -0.072245 -0.041763 -0.008177  0.009129  0.036843  0.033006   \n",
      "lng         -0.012438  0.048439 -0.034307 -0.011862 -0.043930 -0.005084   \n",
      "zcta              NaN       NaN       NaN       NaN       NaN       NaN   \n",
      "parent_zcta       NaN       NaN       NaN       NaN       NaN       NaN   \n",
      "population  -0.000987  0.038085 -0.058108  0.067035 -0.095889  0.076626   \n",
      "density      0.012533  0.124043 -0.054933  0.137955 -0.018021  0.170754   \n",
      "county_fips  0.074896  0.003604 -0.036585  0.019634 -0.011688 -0.006183   \n",
      "imprecise         NaN       NaN       NaN       NaN       NaN       NaN   \n",
      "military          NaN       NaN       NaN       NaN       NaN       NaN   \n",
      "Q2           0.176317  0.000927 -0.135017  0.096855  0.157275  0.117622   \n",
      "Q4           0.128487 -0.041272  0.019181 -0.095624  0.229280 -0.099755   \n",
      "Q5           0.375790  0.133664  0.014886  0.074489  0.242002  0.097916   \n",
      "Q6           1.000000  0.149504  0.040068  0.042786  0.193073  0.121484   \n",
      "Q9_num       0.149504  1.000000  0.284016 -0.038023 -0.018403  0.164110   \n",
      "Q10_num      0.040068  0.284016  1.000000 -0.262766 -0.140375 -0.018091   \n",
      "Q11_num      0.042786 -0.038023 -0.262766  1.000000  0.108869  0.194311   \n",
      "Q30          0.193073 -0.018403 -0.140375  0.108869  1.000000  0.229238   \n",
      "Q13          0.121484  0.164110 -0.018091  0.194311  0.229238  1.000000   \n",
      "Q21          0.099433  0.093793  0.024978  0.192374  0.048455  0.300254   \n",
      "Q25          0.107970  0.116340  0.065188  0.054763  0.066308  0.067823   \n",
      "Q26         -0.133266  0.056240  0.210702 -0.263706 -0.209856 -0.200887   \n",
      "\n",
      "                  Q21       Q25       Q26  \n",
      "zip          0.014078  0.036939 -0.045482  \n",
      "lat         -0.011246 -0.009529  0.029603  \n",
      "lng         -0.022482 -0.048082  0.067062  \n",
      "zcta              NaN       NaN       NaN  \n",
      "parent_zcta       NaN       NaN       NaN  \n",
      "population   0.006245 -0.064643 -0.078928  \n",
      "density      0.080370  0.042433 -0.122823  \n",
      "county_fips -0.048929 -0.036374  0.002291  \n",
      "imprecise         NaN       NaN       NaN  \n",
      "military          NaN       NaN       NaN  \n",
      "Q2           0.025969  0.053246 -0.363231  \n",
      "Q4          -0.046557  0.119028 -0.075560  \n",
      "Q5           0.058275  0.205922 -0.159035  \n",
      "Q6           0.099433  0.107970 -0.133266  \n",
      "Q9_num       0.093793  0.116340  0.056240  \n",
      "Q10_num      0.024978  0.065188  0.210702  \n",
      "Q11_num      0.192374  0.054763 -0.263706  \n",
      "Q30          0.048455  0.066308 -0.209856  \n",
      "Q13          0.300254  0.067823 -0.200887  \n",
      "Q21          1.000000  0.033579 -0.122111  \n",
      "Q25          0.033579  1.000000  0.005090  \n",
      "Q26         -0.122111  0.005090  1.000000  \n",
      "\n",
      "[22 rows x 22 columns]\n"
     ]
    }
   ],
   "source": [
    "corr = zip_data.corr()\n",
    "print(corr)"
   ]
  },
  {
   "cell_type": "code",
   "execution_count": 55,
   "metadata": {},
   "outputs": [
    {
     "data": {
      "text/html": [
       "<div>\n",
       "<style scoped>\n",
       "    .dataframe tbody tr th:only-of-type {\n",
       "        vertical-align: middle;\n",
       "    }\n",
       "\n",
       "    .dataframe tbody tr th {\n",
       "        vertical-align: top;\n",
       "    }\n",
       "\n",
       "    .dataframe thead th {\n",
       "        text-align: right;\n",
       "    }\n",
       "</style>\n",
       "<table border=\"1\" class=\"dataframe\">\n",
       "  <thead>\n",
       "    <tr style=\"text-align: right;\">\n",
       "      <th></th>\n",
       "      <th>zip</th>\n",
       "      <th>lat</th>\n",
       "      <th>lng</th>\n",
       "      <th>city</th>\n",
       "      <th>State Code</th>\n",
       "      <th>State_x</th>\n",
       "      <th>zcta</th>\n",
       "      <th>parent_zcta</th>\n",
       "      <th>population</th>\n",
       "      <th>density</th>\n",
       "      <th>...</th>\n",
       "      <th>Q24_2</th>\n",
       "      <th>Q24_3</th>\n",
       "      <th>Q24_4</th>\n",
       "      <th>Q25</th>\n",
       "      <th>Q26</th>\n",
       "      <th>Q28</th>\n",
       "      <th>Q29</th>\n",
       "      <th>State_y</th>\n",
       "      <th>Region</th>\n",
       "      <th>Division</th>\n",
       "    </tr>\n",
       "  </thead>\n",
       "  <tbody>\n",
       "    <tr>\n",
       "      <th>0</th>\n",
       "      <td>1520</td>\n",
       "      <td>42.33536</td>\n",
       "      <td>-71.85284</td>\n",
       "      <td>Holden</td>\n",
       "      <td>MA</td>\n",
       "      <td>Massachusetts</td>\n",
       "      <td>True</td>\n",
       "      <td>NaN</td>\n",
       "      <td>15645</td>\n",
       "      <td>298.9</td>\n",
       "      <td>...</td>\n",
       "      <td>Disagree</td>\n",
       "      <td>Agree</td>\n",
       "      <td>Agree</td>\n",
       "      <td>250.0</td>\n",
       "      <td>75</td>\n",
       "      <td>Female</td>\n",
       "      <td>White</td>\n",
       "      <td>Massachusetts</td>\n",
       "      <td>Northeast</td>\n",
       "      <td>New England</td>\n",
       "    </tr>\n",
       "    <tr>\n",
       "      <th>1</th>\n",
       "      <td>1532</td>\n",
       "      <td>42.32315</td>\n",
       "      <td>-71.64621</td>\n",
       "      <td>Northborough</td>\n",
       "      <td>MA</td>\n",
       "      <td>Massachusetts</td>\n",
       "      <td>True</td>\n",
       "      <td>NaN</td>\n",
       "      <td>14985</td>\n",
       "      <td>295.9</td>\n",
       "      <td>...</td>\n",
       "      <td>Disagree</td>\n",
       "      <td>Strongly agree</td>\n",
       "      <td>Agree</td>\n",
       "      <td>300.0</td>\n",
       "      <td>54</td>\n",
       "      <td>Female</td>\n",
       "      <td>White</td>\n",
       "      <td>Massachusetts</td>\n",
       "      <td>Northeast</td>\n",
       "      <td>New England</td>\n",
       "    </tr>\n",
       "    <tr>\n",
       "      <th>2</th>\n",
       "      <td>1604</td>\n",
       "      <td>42.25146</td>\n",
       "      <td>-71.76773</td>\n",
       "      <td>Worcester</td>\n",
       "      <td>MA</td>\n",
       "      <td>Massachusetts</td>\n",
       "      <td>True</td>\n",
       "      <td>NaN</td>\n",
       "      <td>37468</td>\n",
       "      <td>2079.6</td>\n",
       "      <td>...</td>\n",
       "      <td>0</td>\n",
       "      <td>0</td>\n",
       "      <td>0</td>\n",
       "      <td>0.0</td>\n",
       "      <td>59</td>\n",
       "      <td>Female</td>\n",
       "      <td>White</td>\n",
       "      <td>Massachusetts</td>\n",
       "      <td>Northeast</td>\n",
       "      <td>New England</td>\n",
       "    </tr>\n",
       "    <tr>\n",
       "      <th>3</th>\n",
       "      <td>1746</td>\n",
       "      <td>42.19775</td>\n",
       "      <td>-71.44499</td>\n",
       "      <td>Holliston</td>\n",
       "      <td>MA</td>\n",
       "      <td>Massachusetts</td>\n",
       "      <td>True</td>\n",
       "      <td>NaN</td>\n",
       "      <td>14634</td>\n",
       "      <td>280.4</td>\n",
       "      <td>...</td>\n",
       "      <td>Strongly disagree</td>\n",
       "      <td>Agree</td>\n",
       "      <td>Strongly disagree</td>\n",
       "      <td>100.0</td>\n",
       "      <td>68</td>\n",
       "      <td>Female</td>\n",
       "      <td>White</td>\n",
       "      <td>Massachusetts</td>\n",
       "      <td>Northeast</td>\n",
       "      <td>New England</td>\n",
       "    </tr>\n",
       "    <tr>\n",
       "      <th>4</th>\n",
       "      <td>1757</td>\n",
       "      <td>42.15678</td>\n",
       "      <td>-71.51911</td>\n",
       "      <td>Milford</td>\n",
       "      <td>MA</td>\n",
       "      <td>Massachusetts</td>\n",
       "      <td>True</td>\n",
       "      <td>NaN</td>\n",
       "      <td>28862</td>\n",
       "      <td>727.4</td>\n",
       "      <td>...</td>\n",
       "      <td>Strongly disagree</td>\n",
       "      <td>Agree</td>\n",
       "      <td>Disagree</td>\n",
       "      <td>600.0</td>\n",
       "      <td>49</td>\n",
       "      <td>Female</td>\n",
       "      <td>White</td>\n",
       "      <td>Massachusetts</td>\n",
       "      <td>Northeast</td>\n",
       "      <td>New England</td>\n",
       "    </tr>\n",
       "  </tbody>\n",
       "</table>\n",
       "<p>5 rows × 60 columns</p>\n",
       "</div>"
      ],
      "text/plain": [
       "    zip       lat       lng          city State Code        State_x  zcta  \\\n",
       "0  1520  42.33536 -71.85284        Holden         MA  Massachusetts  True   \n",
       "1  1532  42.32315 -71.64621  Northborough         MA  Massachusetts  True   \n",
       "2  1604  42.25146 -71.76773     Worcester         MA  Massachusetts  True   \n",
       "3  1746  42.19775 -71.44499     Holliston         MA  Massachusetts  True   \n",
       "4  1757  42.15678 -71.51911       Milford         MA  Massachusetts  True   \n",
       "\n",
       "   parent_zcta  population  density  ...              Q24_2           Q24_3  \\\n",
       "0          NaN       15645    298.9  ...           Disagree           Agree   \n",
       "1          NaN       14985    295.9  ...           Disagree  Strongly agree   \n",
       "2          NaN       37468   2079.6  ...                  0               0   \n",
       "3          NaN       14634    280.4  ...  Strongly disagree           Agree   \n",
       "4          NaN       28862    727.4  ...  Strongly disagree           Agree   \n",
       "\n",
       "               Q24_4    Q25 Q26     Q28    Q29        State_y     Region  \\\n",
       "0              Agree  250.0  75  Female  White  Massachusetts  Northeast   \n",
       "1              Agree  300.0  54  Female  White  Massachusetts  Northeast   \n",
       "2                  0    0.0  59  Female  White  Massachusetts  Northeast   \n",
       "3  Strongly disagree  100.0  68  Female  White  Massachusetts  Northeast   \n",
       "4           Disagree  600.0  49  Female  White  Massachusetts  Northeast   \n",
       "\n",
       "      Division  \n",
       "0  New England  \n",
       "1  New England  \n",
       "2  New England  \n",
       "3  New England  \n",
       "4  New England  \n",
       "\n",
       "[5 rows x 60 columns]"
      ]
     },
     "execution_count": 55,
     "metadata": {},
     "output_type": "execute_result"
    }
   ],
   "source": [
    "#regions\n",
    "region = pd.read_csv('https://raw.githubusercontent.com/cphalpert/census-regions/master/us%20census%20bureau%20regions%20and%20divisions.csv')\n",
    "\n",
    "zip_data = zip_data.rename(columns={'state_id': 'State Code'})\n",
    "\n",
    "\n",
    "new_zip_data = pd.merge(zip_data, region, on='State Code')\n",
    "new_zip_data.head()"
   ]
  },
  {
   "cell_type": "code",
   "execution_count": 59,
   "metadata": {},
   "outputs": [
    {
     "data": {
      "text/html": [
       "<div>\n",
       "<style scoped>\n",
       "    .dataframe tbody tr th:only-of-type {\n",
       "        vertical-align: middle;\n",
       "    }\n",
       "\n",
       "    .dataframe tbody tr th {\n",
       "        vertical-align: top;\n",
       "    }\n",
       "\n",
       "    .dataframe thead th {\n",
       "        text-align: right;\n",
       "    }\n",
       "</style>\n",
       "<table border=\"1\" class=\"dataframe\">\n",
       "  <thead>\n",
       "    <tr style=\"text-align: right;\">\n",
       "      <th></th>\n",
       "      <th>Q11_num</th>\n",
       "    </tr>\n",
       "    <tr>\n",
       "      <th>Region</th>\n",
       "      <th></th>\n",
       "    </tr>\n",
       "  </thead>\n",
       "  <tbody>\n",
       "    <tr>\n",
       "      <th>Midwest</th>\n",
       "      <td>2.150685</td>\n",
       "    </tr>\n",
       "    <tr>\n",
       "      <th>Northeast</th>\n",
       "      <td>2.241259</td>\n",
       "    </tr>\n",
       "    <tr>\n",
       "      <th>South</th>\n",
       "      <td>2.102190</td>\n",
       "    </tr>\n",
       "    <tr>\n",
       "      <th>West</th>\n",
       "      <td>2.342105</td>\n",
       "    </tr>\n",
       "  </tbody>\n",
       "</table>\n",
       "</div>"
      ],
      "text/plain": [
       "            Q11_num\n",
       "Region             \n",
       "Midwest    2.150685\n",
       "Northeast  2.241259\n",
       "South      2.102190\n",
       "West       2.342105"
      ]
     },
     "execution_count": 59,
     "metadata": {},
     "output_type": "execute_result"
    }
   ],
   "source": [
    "pd.pivot_table(new_zip_data, values = 'Q11_num', index = ['Region'], aggfunc=(np.mean))"
   ]
  },
  {
   "cell_type": "code",
   "execution_count": 61,
   "metadata": {},
   "outputs": [
    {
     "data": {
      "text/plain": [
       "Northeast    355\n",
       "South        308\n",
       "Midwest      167\n",
       "West         135\n",
       "Name: Region, dtype: int64"
      ]
     },
     "execution_count": 61,
     "metadata": {},
     "output_type": "execute_result"
    }
   ],
   "source": [
    "pd.value_counts(new_zip_data['Region'])"
   ]
  },
  {
   "cell_type": "code",
   "execution_count": 56,
   "metadata": {},
   "outputs": [
    {
     "name": "stderr",
     "output_type": "stream",
     "text": [
      "/opt/anaconda3/lib/python3.7/site-packages/outdated/utils.py:18: OutdatedPackageWarning: The package pingouin is out of date. Your version is 0.3.6, the latest is 0.3.8.\n",
      "Set the environment variable OUTDATED_IGNORE=1 to disable these warnings.\n",
      "  **kwargs\n"
     ]
    },
    {
     "data": {
      "text/html": [
       "<div>\n",
       "<style scoped>\n",
       "    .dataframe tbody tr th:only-of-type {\n",
       "        vertical-align: middle;\n",
       "    }\n",
       "\n",
       "    .dataframe tbody tr th {\n",
       "        vertical-align: top;\n",
       "    }\n",
       "\n",
       "    .dataframe thead th {\n",
       "        text-align: right;\n",
       "    }\n",
       "</style>\n",
       "<table border=\"1\" class=\"dataframe\">\n",
       "  <thead>\n",
       "    <tr style=\"text-align: right;\">\n",
       "      <th></th>\n",
       "      <th>sum_sq</th>\n",
       "      <th>df</th>\n",
       "      <th>F</th>\n",
       "      <th>PR(&gt;F)</th>\n",
       "    </tr>\n",
       "  </thead>\n",
       "  <tbody>\n",
       "    <tr>\n",
       "      <th>Region</th>\n",
       "      <td>5.721438</td>\n",
       "      <td>3.0</td>\n",
       "      <td>1.006726</td>\n",
       "      <td>0.389096</td>\n",
       "    </tr>\n",
       "    <tr>\n",
       "      <th>Residual</th>\n",
       "      <td>1545.834659</td>\n",
       "      <td>816.0</td>\n",
       "      <td>NaN</td>\n",
       "      <td>NaN</td>\n",
       "    </tr>\n",
       "  </tbody>\n",
       "</table>\n",
       "</div>"
      ],
      "text/plain": [
       "               sum_sq     df         F    PR(>F)\n",
       "Region       5.721438    3.0  1.006726  0.389096\n",
       "Residual  1545.834659  816.0       NaN       NaN"
      ]
     },
     "execution_count": 56,
     "metadata": {},
     "output_type": "execute_result"
    }
   ],
   "source": [
    "# ANOVA BY REGION\n",
    "\n",
    "import statsmodels.api as sm\n",
    "from statsmodels.formula.api import ols\n",
    "import scipy.stats as stats\n",
    "from pingouin import pairwise_tukey\n",
    "\n",
    "anova1 = new_zip_data.loc[:,['Q11_num','Region']]\n",
    "\n",
    "model1 = ols('Q11_num ~ Region', data=anova1).fit()\n",
    "\n",
    "aov_table1 = sm.stats.anova_lm(model1, typ=2)\n",
    "aov_table1 = pd.DataFrame(data=aov_table1)\n",
    "\n",
    "aov_table1[:30]"
   ]
  },
  {
   "cell_type": "code",
   "execution_count": 63,
   "metadata": {},
   "outputs": [],
   "source": [
    "new_zip_data.to_csv('/Users/zoezirlin/Desktop/map.csv')"
   ]
  },
  {
   "cell_type": "code",
   "execution_count": null,
   "metadata": {},
   "outputs": [],
   "source": []
  },
  {
   "cell_type": "code",
   "execution_count": 10,
   "metadata": {},
   "outputs": [
    {
     "data": {
      "text/plain": [
       "<bound method Series.mean of 0                      0\n",
       "1                      0\n",
       "2                      0\n",
       "3                      0\n",
       "4                      0\n",
       "             ...        \n",
       "975    Somewhat disagree\n",
       "976                    0\n",
       "977    Somewhat disagree\n",
       "978                    0\n",
       "979    Somewhat disagree\n",
       "Name: Q18_3, Length: 980, dtype: object>"
      ]
     },
     "execution_count": 10,
     "metadata": {},
     "output_type": "execute_result"
    }
   ],
   "source": [
    "#averages\n",
    "\n",
    "#Q18_3- environment\n",
    "data['Q18_3'].mean\n",
    "\n",
    "#Q18_2- environment\n",
    "#data['Q18_2']\n",
    "\n"
   ]
  },
  {
   "cell_type": "code",
   "execution_count": null,
   "metadata": {},
   "outputs": [],
   "source": []
  },
  {
   "cell_type": "code",
   "execution_count": null,
   "metadata": {},
   "outputs": [],
   "source": []
  },
  {
   "cell_type": "markdown",
   "metadata": {},
   "source": [
    "### SLIDE 15"
   ]
  },
  {
   "cell_type": "code",
   "execution_count": 26,
   "metadata": {},
   "outputs": [],
   "source": [
    "data = pd.read_excel('/Users/zoezirlin/Dropbox/My Mac (Zoe’s MacBook Pro (2))/Desktop/raw_lyft.xlsx')"
   ]
  },
  {
   "cell_type": "code",
   "execution_count": 42,
   "metadata": {},
   "outputs": [
    {
     "data": {
      "text/plain": [
       "White                                        674\n",
       "Black or African American                    145\n",
       "Asian                                         65\n",
       "Hispanic/Latino-American                      34\n",
       "Other                                         26\n",
       "Prefer not to answer                          12\n",
       "Multi-racial                                  10\n",
       "Indian-American                                7\n",
       "American Indian or Alaska Native               5\n",
       "Native Hawaiian or Other Pacific Islander      2\n",
       "Name: Q29, dtype: int64"
      ]
     },
     "execution_count": 42,
     "metadata": {},
     "output_type": "execute_result"
    }
   ],
   "source": [
    "pd.value_counts(data['Q29'])"
   ]
  },
  {
   "cell_type": "code",
   "execution_count": 52,
   "metadata": {},
   "outputs": [
    {
     "data": {
      "text/html": [
       "<div>\n",
       "<style scoped>\n",
       "    .dataframe tbody tr th:only-of-type {\n",
       "        vertical-align: middle;\n",
       "    }\n",
       "\n",
       "    .dataframe tbody tr th {\n",
       "        vertical-align: top;\n",
       "    }\n",
       "\n",
       "    .dataframe thead th {\n",
       "        text-align: right;\n",
       "    }\n",
       "</style>\n",
       "<table border=\"1\" class=\"dataframe\">\n",
       "  <thead>\n",
       "    <tr style=\"text-align: right;\">\n",
       "      <th></th>\n",
       "      <th>sum_sq</th>\n",
       "      <th>df</th>\n",
       "      <th>F</th>\n",
       "      <th>PR(&gt;F)</th>\n",
       "    </tr>\n",
       "  </thead>\n",
       "  <tbody>\n",
       "    <tr>\n",
       "      <th>Q29</th>\n",
       "      <td>25.704017</td>\n",
       "      <td>9.0</td>\n",
       "      <td>1.499985</td>\n",
       "      <td>0.143395</td>\n",
       "    </tr>\n",
       "    <tr>\n",
       "      <th>Residual</th>\n",
       "      <td>1567.009068</td>\n",
       "      <td>823.0</td>\n",
       "      <td>NaN</td>\n",
       "      <td>NaN</td>\n",
       "    </tr>\n",
       "  </tbody>\n",
       "</table>\n",
       "</div>"
      ],
      "text/plain": [
       "               sum_sq     df         F    PR(>F)\n",
       "Q29         25.704017    9.0  1.499985  0.143395\n",
       "Residual  1567.009068  823.0       NaN       NaN"
      ]
     },
     "execution_count": 52,
     "metadata": {},
     "output_type": "execute_result"
    }
   ],
   "source": [
    "import statsmodels.api as sm\n",
    "from statsmodels.formula.api import ols\n",
    "import scipy.stats as stats\n",
    "from pingouin import pairwise_tukey\n",
    "\n",
    "\n",
    "anova1 = data.loc[:,['Q11_num','Q29']]\n",
    "\n",
    "model1 = ols('Q11_num ~ Q29', data=anova1).fit()\n",
    "\n",
    "aov_table1 = sm.stats.anova_lm(model1, typ=2)\n",
    "aov_table1 = pd.DataFrame(data=aov_table1)\n",
    "\n",
    "aov_table1[:30]"
   ]
  },
  {
   "cell_type": "code",
   "execution_count": 57,
   "metadata": {},
   "outputs": [
    {
     "data": {
      "text/html": [
       "<div>\n",
       "<style scoped>\n",
       "    .dataframe tbody tr th:only-of-type {\n",
       "        vertical-align: middle;\n",
       "    }\n",
       "\n",
       "    .dataframe tbody tr th {\n",
       "        vertical-align: top;\n",
       "    }\n",
       "\n",
       "    .dataframe thead th {\n",
       "        text-align: right;\n",
       "    }\n",
       "</style>\n",
       "<table border=\"1\" class=\"dataframe\">\n",
       "  <thead>\n",
       "    <tr style=\"text-align: right;\">\n",
       "      <th></th>\n",
       "      <th>Q11_num</th>\n",
       "    </tr>\n",
       "    <tr>\n",
       "      <th>Q29</th>\n",
       "      <th></th>\n",
       "    </tr>\n",
       "  </thead>\n",
       "  <tbody>\n",
       "    <tr>\n",
       "      <th>American Indian or Alaska Native</th>\n",
       "      <td>2.500000</td>\n",
       "    </tr>\n",
       "    <tr>\n",
       "      <th>Asian</th>\n",
       "      <td>2.338983</td>\n",
       "    </tr>\n",
       "    <tr>\n",
       "      <th>Black or African American</th>\n",
       "      <td>2.261261</td>\n",
       "    </tr>\n",
       "    <tr>\n",
       "      <th>Hispanic/Latino-American</th>\n",
       "      <td>2.550000</td>\n",
       "    </tr>\n",
       "    <tr>\n",
       "      <th>Indian-American</th>\n",
       "      <td>3.500000</td>\n",
       "    </tr>\n",
       "    <tr>\n",
       "      <th>Multi-racial</th>\n",
       "      <td>2.714286</td>\n",
       "    </tr>\n",
       "    <tr>\n",
       "      <th>Native Hawaiian or Other Pacific Islander</th>\n",
       "      <td>1.000000</td>\n",
       "    </tr>\n",
       "    <tr>\n",
       "      <th>Other</th>\n",
       "      <td>2.560000</td>\n",
       "    </tr>\n",
       "    <tr>\n",
       "      <th>Prefer not to answer</th>\n",
       "      <td>2.800000</td>\n",
       "    </tr>\n",
       "    <tr>\n",
       "      <th>White</th>\n",
       "      <td>2.128596</td>\n",
       "    </tr>\n",
       "  </tbody>\n",
       "</table>\n",
       "</div>"
      ],
      "text/plain": [
       "                                            Q11_num\n",
       "Q29                                                \n",
       "American Indian or Alaska Native           2.500000\n",
       "Asian                                      2.338983\n",
       "Black or African American                  2.261261\n",
       "Hispanic/Latino-American                   2.550000\n",
       "Indian-American                            3.500000\n",
       "Multi-racial                               2.714286\n",
       "Native Hawaiian or Other Pacific Islander  1.000000\n",
       "Other                                      2.560000\n",
       "Prefer not to answer                       2.800000\n",
       "White                                      2.128596"
      ]
     },
     "execution_count": 57,
     "metadata": {},
     "output_type": "execute_result"
    }
   ],
   "source": [
    "pd.pivot_table(data, values = 'Q11_num', index = ['Q29'], aggfunc=(np.mean))"
   ]
  },
  {
   "cell_type": "markdown",
   "metadata": {},
   "source": [
    "### SLIDE 17"
   ]
  },
  {
   "cell_type": "markdown",
   "metadata": {},
   "source": [
    "Regression Functions\n",
    "\n",
    "Q11(consider giving up car in favor of alternative transporation) = Q9(importance owning a car) + Q10(time spent in car)\n",
    "Q11(consider giving up car in favor of alternative transporation) = Q13(On average, how many times a month do you use ride-share services?) + Q21(How often do you use rental bikes and/or scooters in the average month?)"
   ]
  },
  {
   "cell_type": "code",
   "execution_count": 2,
   "metadata": {},
   "outputs": [],
   "source": [
    "import numpy as np #important numpy\n",
    "import pandas as pd #importing pandas\n",
    "import seaborn as sns #importing seaborn\n",
    "import scipy.stats as stats\n",
    "from scipy.stats import pearsonr #importing pearson correlation abilities\n",
    "from scipy.stats import pointbiserialr #importing point biserial correlation abilities\n",
    "from matplotlib import pyplot as plt #importing pyplot\n",
    "import statsmodels.api as sm #importing statsmodels"
   ]
  },
  {
   "cell_type": "code",
   "execution_count": 10,
   "metadata": {},
   "outputs": [
    {
     "data": {
      "text/html": [
       "<table class=\"simpletable\">\n",
       "<caption>OLS Regression Results</caption>\n",
       "<tr>\n",
       "  <th>Dep. Variable:</th>         <td>Q11_num</td>     <th>  R-squared:         </th> <td>   0.002</td>\n",
       "</tr>\n",
       "<tr>\n",
       "  <th>Model:</th>                   <td>OLS</td>       <th>  Adj. R-squared:    </th> <td>   0.000</td>\n",
       "</tr>\n",
       "<tr>\n",
       "  <th>Method:</th>             <td>Least Squares</td>  <th>  F-statistic:       </th> <td>   1.251</td>\n",
       "</tr>\n",
       "<tr>\n",
       "  <th>Date:</th>             <td>Sun, 29 Nov 2020</td> <th>  Prob (F-statistic):</th>  <td> 0.264</td> \n",
       "</tr>\n",
       "<tr>\n",
       "  <th>Time:</th>                 <td>11:16:47</td>     <th>  Log-Likelihood:    </th> <td> -1442.2</td>\n",
       "</tr>\n",
       "<tr>\n",
       "  <th>No. Observations:</th>      <td>   827</td>      <th>  AIC:               </th> <td>   2888.</td>\n",
       "</tr>\n",
       "<tr>\n",
       "  <th>Df Residuals:</th>          <td>   825</td>      <th>  BIC:               </th> <td>   2898.</td>\n",
       "</tr>\n",
       "<tr>\n",
       "  <th>Df Model:</th>              <td>     1</td>      <th>                     </th>     <td> </td>   \n",
       "</tr>\n",
       "<tr>\n",
       "  <th>Covariance Type:</th>      <td>nonrobust</td>    <th>                     </th>     <td> </td>   \n",
       "</tr>\n",
       "</table>\n",
       "<table class=\"simpletable\">\n",
       "<tr>\n",
       "     <td></td>       <th>coef</th>     <th>std err</th>      <th>t</th>      <th>P>|t|</th>  <th>[0.025</th>    <th>0.975]</th>  \n",
       "</tr>\n",
       "<tr>\n",
       "  <th>const</th>  <td>    2.3687</td> <td>    0.155</td> <td>   15.321</td> <td> 0.000</td> <td>    2.065</td> <td>    2.672</td>\n",
       "</tr>\n",
       "<tr>\n",
       "  <th>Q9_num</th> <td>   -0.0118</td> <td>    0.011</td> <td>   -1.118</td> <td> 0.264</td> <td>   -0.032</td> <td>    0.009</td>\n",
       "</tr>\n",
       "<tr>\n",
       "  <th>Q9_num</th> <td>   -0.0118</td> <td>    0.011</td> <td>   -1.118</td> <td> 0.264</td> <td>   -0.032</td> <td>    0.009</td>\n",
       "</tr>\n",
       "<tr>\n",
       "  <th>Q9_num</th> <td>   -0.0118</td> <td>    0.011</td> <td>   -1.118</td> <td> 0.264</td> <td>   -0.032</td> <td>    0.009</td>\n",
       "</tr>\n",
       "<tr>\n",
       "  <th>Q9_num</th> <td>   -0.0118</td> <td>    0.011</td> <td>   -1.118</td> <td> 0.264</td> <td>   -0.032</td> <td>    0.009</td>\n",
       "</tr>\n",
       "</table>\n",
       "<table class=\"simpletable\">\n",
       "<tr>\n",
       "  <th>Omnibus:</th>       <td>103.099</td> <th>  Durbin-Watson:     </th> <td>   1.950</td>\n",
       "</tr>\n",
       "<tr>\n",
       "  <th>Prob(Omnibus):</th> <td> 0.000</td>  <th>  Jarque-Bera (JB):  </th> <td>  97.042</td>\n",
       "</tr>\n",
       "<tr>\n",
       "  <th>Skew:</th>          <td> 0.768</td>  <th>  Prob(JB):          </th> <td>8.46e-22</td>\n",
       "</tr>\n",
       "<tr>\n",
       "  <th>Kurtosis:</th>      <td> 2.324</td>  <th>  Cond. No.          </th> <td>1.54e+48</td>\n",
       "</tr>\n",
       "</table><br/><br/>Warnings:<br/>[1] Standard Errors assume that the covariance matrix of the errors is correctly specified.<br/>[2] The smallest eigenvalue is 1.92e-92. This might indicate that there are<br/>strong multicollinearity problems or that the design matrix is singular."
      ],
      "text/plain": [
       "<class 'statsmodels.iolib.summary.Summary'>\n",
       "\"\"\"\n",
       "                            OLS Regression Results                            \n",
       "==============================================================================\n",
       "Dep. Variable:                Q11_num   R-squared:                       0.002\n",
       "Model:                            OLS   Adj. R-squared:                  0.000\n",
       "Method:                 Least Squares   F-statistic:                     1.251\n",
       "Date:                Sun, 29 Nov 2020   Prob (F-statistic):              0.264\n",
       "Time:                        11:16:47   Log-Likelihood:                -1442.2\n",
       "No. Observations:                 827   AIC:                             2888.\n",
       "Df Residuals:                     825   BIC:                             2898.\n",
       "Df Model:                           1                                         \n",
       "Covariance Type:            nonrobust                                         \n",
       "==============================================================================\n",
       "                 coef    std err          t      P>|t|      [0.025      0.975]\n",
       "------------------------------------------------------------------------------\n",
       "const          2.3687      0.155     15.321      0.000       2.065       2.672\n",
       "Q9_num        -0.0118      0.011     -1.118      0.264      -0.032       0.009\n",
       "Q9_num        -0.0118      0.011     -1.118      0.264      -0.032       0.009\n",
       "Q9_num        -0.0118      0.011     -1.118      0.264      -0.032       0.009\n",
       "Q9_num        -0.0118      0.011     -1.118      0.264      -0.032       0.009\n",
       "==============================================================================\n",
       "Omnibus:                      103.099   Durbin-Watson:                   1.950\n",
       "Prob(Omnibus):                  0.000   Jarque-Bera (JB):               97.042\n",
       "Skew:                           0.768   Prob(JB):                     8.46e-22\n",
       "Kurtosis:                       2.324   Cond. No.                     1.54e+48\n",
       "==============================================================================\n",
       "\n",
       "Warnings:\n",
       "[1] Standard Errors assume that the covariance matrix of the errors is correctly specified.\n",
       "[2] The smallest eigenvalue is 1.92e-92. This might indicate that there are\n",
       "strong multicollinearity problems or that the design matrix is singular.\n",
       "\"\"\""
      ]
     },
     "execution_count": 10,
     "metadata": {},
     "output_type": "execute_result"
    }
   ],
   "source": [
    "#RESULT: IMPORTANCE OF OWNING A CAR AND TIME SPENT IN THE CAR CANNOT PREDICT CONSIDERATION IN GIVING UP A CAR\n",
    "\n",
    "\n",
    "regression_one_data = data[['Q11_num','Q9_num','Q9_num']]\n",
    "\n",
    "regression_one_data = regression_one_data.dropna()\n",
    "\n",
    "\n",
    "X = regression_one_data[['Q9_num','Q9_num']]\n",
    "y = regression_one_data['Q11_num']\n",
    "X = sm.add_constant(X) ## adds an intercept (beta_0) to our model\n",
    "\n",
    "model_1 = sm.OLS(y, X).fit()\n",
    "predictions = model_1.predict(X) # make the predictions by the model\n",
    "\n",
    "# Print out the statistics\n",
    "model_1.summary()"
   ]
  },
  {
   "cell_type": "code",
   "execution_count": 12,
   "metadata": {},
   "outputs": [
    {
     "data": {
      "text/html": [
       "<table class=\"simpletable\">\n",
       "<caption>OLS Regression Results</caption>\n",
       "<tr>\n",
       "  <th>Dep. Variable:</th>         <td>Q11_num</td>     <th>  R-squared:         </th> <td>   0.070</td>\n",
       "</tr>\n",
       "<tr>\n",
       "  <th>Model:</th>                   <td>OLS</td>       <th>  Adj. R-squared:    </th> <td>   0.069</td>\n",
       "</tr>\n",
       "<tr>\n",
       "  <th>Method:</th>             <td>Least Squares</td>  <th>  F-statistic:       </th> <td>   62.69</td>\n",
       "</tr>\n",
       "<tr>\n",
       "  <th>Date:</th>             <td>Sun, 29 Nov 2020</td> <th>  Prob (F-statistic):</th> <td>7.74e-15</td>\n",
       "</tr>\n",
       "<tr>\n",
       "  <th>Time:</th>                 <td>11:18:15</td>     <th>  Log-Likelihood:    </th> <td> -1421.6</td>\n",
       "</tr>\n",
       "<tr>\n",
       "  <th>No. Observations:</th>      <td>   833</td>      <th>  AIC:               </th> <td>   2847.</td>\n",
       "</tr>\n",
       "<tr>\n",
       "  <th>Df Residuals:</th>          <td>   831</td>      <th>  BIC:               </th> <td>   2857.</td>\n",
       "</tr>\n",
       "<tr>\n",
       "  <th>Df Model:</th>              <td>     1</td>      <th>                     </th>     <td> </td>   \n",
       "</tr>\n",
       "<tr>\n",
       "  <th>Covariance Type:</th>      <td>nonrobust</td>    <th>                     </th>     <td> </td>   \n",
       "</tr>\n",
       "</table>\n",
       "<table class=\"simpletable\">\n",
       "<tr>\n",
       "    <td></td>       <th>coef</th>     <th>std err</th>      <th>t</th>      <th>P>|t|</th>  <th>[0.025</th>    <th>0.975]</th>  \n",
       "</tr>\n",
       "<tr>\n",
       "  <th>const</th> <td>    3.2330</td> <td>    0.138</td> <td>   23.413</td> <td> 0.000</td> <td>    2.962</td> <td>    3.504</td>\n",
       "</tr>\n",
       "<tr>\n",
       "  <th>Q26</th>   <td>   -0.0225</td> <td>    0.003</td> <td>   -7.918</td> <td> 0.000</td> <td>   -0.028</td> <td>   -0.017</td>\n",
       "</tr>\n",
       "</table>\n",
       "<table class=\"simpletable\">\n",
       "<tr>\n",
       "  <th>Omnibus:</th>       <td>78.371</td> <th>  Durbin-Watson:     </th> <td>   1.959</td>\n",
       "</tr>\n",
       "<tr>\n",
       "  <th>Prob(Omnibus):</th> <td> 0.000</td> <th>  Jarque-Bera (JB):  </th> <td>  76.052</td>\n",
       "</tr>\n",
       "<tr>\n",
       "  <th>Skew:</th>          <td> 0.679</td> <th>  Prob(JB):          </th> <td>3.06e-17</td>\n",
       "</tr>\n",
       "<tr>\n",
       "  <th>Kurtosis:</th>      <td> 2.412</td> <th>  Cond. No.          </th> <td>    145.</td>\n",
       "</tr>\n",
       "</table><br/><br/>Warnings:<br/>[1] Standard Errors assume that the covariance matrix of the errors is correctly specified."
      ],
      "text/plain": [
       "<class 'statsmodels.iolib.summary.Summary'>\n",
       "\"\"\"\n",
       "                            OLS Regression Results                            \n",
       "==============================================================================\n",
       "Dep. Variable:                Q11_num   R-squared:                       0.070\n",
       "Model:                            OLS   Adj. R-squared:                  0.069\n",
       "Method:                 Least Squares   F-statistic:                     62.69\n",
       "Date:                Sun, 29 Nov 2020   Prob (F-statistic):           7.74e-15\n",
       "Time:                        11:18:15   Log-Likelihood:                -1421.6\n",
       "No. Observations:                 833   AIC:                             2847.\n",
       "Df Residuals:                     831   BIC:                             2857.\n",
       "Df Model:                           1                                         \n",
       "Covariance Type:            nonrobust                                         \n",
       "==============================================================================\n",
       "                 coef    std err          t      P>|t|      [0.025      0.975]\n",
       "------------------------------------------------------------------------------\n",
       "const          3.2330      0.138     23.413      0.000       2.962       3.504\n",
       "Q26           -0.0225      0.003     -7.918      0.000      -0.028      -0.017\n",
       "==============================================================================\n",
       "Omnibus:                       78.371   Durbin-Watson:                   1.959\n",
       "Prob(Omnibus):                  0.000   Jarque-Bera (JB):               76.052\n",
       "Skew:                           0.679   Prob(JB):                     3.06e-17\n",
       "Kurtosis:                       2.412   Cond. No.                         145.\n",
       "==============================================================================\n",
       "\n",
       "Warnings:\n",
       "[1] Standard Errors assume that the covariance matrix of the errors is correctly specified.\n",
       "\"\"\""
      ]
     },
     "execution_count": 12,
     "metadata": {},
     "output_type": "execute_result"
    }
   ],
   "source": [
    "#RESULT: AGE IS A SIGNIFICANT PREDICTOR IN DETERMINING IF SOMEONE IS WILLING TO GIVE UP A CAR, with much response variablity\n",
    "\n",
    "\n",
    "regression_one_data = data[['Q11_num','Q26']]\n",
    "\n",
    "regression_one_data = regression_one_data.dropna()\n",
    "\n",
    "X = regression_one_data['Q26']\n",
    "y = regression_one_data['Q11_num']\n",
    "X = sm.add_constant(X) ## adds an intercept (beta_0) to our model\n",
    "\n",
    "model_1 = sm.OLS(y, X).fit()\n",
    "predictions = model_1.predict(X) # make the predictions by the model\n",
    "\n",
    "# Print out the statistics\n",
    "model_1.summary()"
   ]
  },
  {
   "cell_type": "code",
   "execution_count": 21,
   "metadata": {},
   "outputs": [
    {
     "data": {
      "text/html": [
       "<table class=\"simpletable\">\n",
       "<caption>OLS Regression Results</caption>\n",
       "<tr>\n",
       "  <th>Dep. Variable:</th>         <td>Q11_num</td>     <th>  R-squared:         </th> <td>   0.104</td>\n",
       "</tr>\n",
       "<tr>\n",
       "  <th>Model:</th>                   <td>OLS</td>       <th>  Adj. R-squared:    </th> <td>   0.101</td>\n",
       "</tr>\n",
       "<tr>\n",
       "  <th>Method:</th>             <td>Least Squares</td>  <th>  F-statistic:       </th> <td>   32.19</td>\n",
       "</tr>\n",
       "<tr>\n",
       "  <th>Date:</th>             <td>Sun, 29 Nov 2020</td> <th>  Prob (F-statistic):</th> <td>1.10e-19</td>\n",
       "</tr>\n",
       "<tr>\n",
       "  <th>Time:</th>                 <td>11:25:40</td>     <th>  Log-Likelihood:    </th> <td> -1406.0</td>\n",
       "</tr>\n",
       "<tr>\n",
       "  <th>No. Observations:</th>      <td>   833</td>      <th>  AIC:               </th> <td>   2820.</td>\n",
       "</tr>\n",
       "<tr>\n",
       "  <th>Df Residuals:</th>          <td>   829</td>      <th>  BIC:               </th> <td>   2839.</td>\n",
       "</tr>\n",
       "<tr>\n",
       "  <th>Df Model:</th>              <td>     3</td>      <th>                     </th>     <td> </td>   \n",
       "</tr>\n",
       "<tr>\n",
       "  <th>Covariance Type:</th>      <td>nonrobust</td>    <th>                     </th>     <td> </td>   \n",
       "</tr>\n",
       "</table>\n",
       "<table class=\"simpletable\">\n",
       "<tr>\n",
       "    <td></td>       <th>coef</th>     <th>std err</th>      <th>t</th>      <th>P>|t|</th>  <th>[0.025</th>    <th>0.975]</th>  \n",
       "</tr>\n",
       "<tr>\n",
       "  <th>const</th> <td>    2.9896</td> <td>    0.145</td> <td>   20.561</td> <td> 0.000</td> <td>    2.704</td> <td>    3.275</td>\n",
       "</tr>\n",
       "<tr>\n",
       "  <th>Q13</th>   <td>    0.0471</td> <td>    0.018</td> <td>    2.550</td> <td> 0.011</td> <td>    0.011</td> <td>    0.083</td>\n",
       "</tr>\n",
       "<tr>\n",
       "  <th>Q21</th>   <td>    0.0719</td> <td>    0.018</td> <td>    3.888</td> <td> 0.000</td> <td>    0.036</td> <td>    0.108</td>\n",
       "</tr>\n",
       "<tr>\n",
       "  <th>Q26</th>   <td>   -0.0192</td> <td>    0.003</td> <td>   -6.700</td> <td> 0.000</td> <td>   -0.025</td> <td>   -0.014</td>\n",
       "</tr>\n",
       "</table>\n",
       "<table class=\"simpletable\">\n",
       "<tr>\n",
       "  <th>Omnibus:</th>       <td>69.345</td> <th>  Durbin-Watson:     </th> <td>   1.965</td>\n",
       "</tr>\n",
       "<tr>\n",
       "  <th>Prob(Omnibus):</th> <td> 0.000</td> <th>  Jarque-Bera (JB):  </th> <td>  70.564</td>\n",
       "</tr>\n",
       "<tr>\n",
       "  <th>Skew:</th>          <td> 0.663</td> <th>  Prob(JB):          </th> <td>4.76e-16</td>\n",
       "</tr>\n",
       "<tr>\n",
       "  <th>Kurtosis:</th>      <td> 2.475</td> <th>  Cond. No.          </th> <td>    156.</td>\n",
       "</tr>\n",
       "</table><br/><br/>Warnings:<br/>[1] Standard Errors assume that the covariance matrix of the errors is correctly specified."
      ],
      "text/plain": [
       "<class 'statsmodels.iolib.summary.Summary'>\n",
       "\"\"\"\n",
       "                            OLS Regression Results                            \n",
       "==============================================================================\n",
       "Dep. Variable:                Q11_num   R-squared:                       0.104\n",
       "Model:                            OLS   Adj. R-squared:                  0.101\n",
       "Method:                 Least Squares   F-statistic:                     32.19\n",
       "Date:                Sun, 29 Nov 2020   Prob (F-statistic):           1.10e-19\n",
       "Time:                        11:25:40   Log-Likelihood:                -1406.0\n",
       "No. Observations:                 833   AIC:                             2820.\n",
       "Df Residuals:                     829   BIC:                             2839.\n",
       "Df Model:                           3                                         \n",
       "Covariance Type:            nonrobust                                         \n",
       "==============================================================================\n",
       "                 coef    std err          t      P>|t|      [0.025      0.975]\n",
       "------------------------------------------------------------------------------\n",
       "const          2.9896      0.145     20.561      0.000       2.704       3.275\n",
       "Q13            0.0471      0.018      2.550      0.011       0.011       0.083\n",
       "Q21            0.0719      0.018      3.888      0.000       0.036       0.108\n",
       "Q26           -0.0192      0.003     -6.700      0.000      -0.025      -0.014\n",
       "==============================================================================\n",
       "Omnibus:                       69.345   Durbin-Watson:                   1.965\n",
       "Prob(Omnibus):                  0.000   Jarque-Bera (JB):               70.564\n",
       "Skew:                           0.663   Prob(JB):                     4.76e-16\n",
       "Kurtosis:                       2.475   Cond. No.                         156.\n",
       "==============================================================================\n",
       "\n",
       "Warnings:\n",
       "[1] Standard Errors assume that the covariance matrix of the errors is correctly specified.\n",
       "\"\"\""
      ]
     },
     "execution_count": 21,
     "metadata": {},
     "output_type": "execute_result"
    }
   ],
   "source": [
    "#Q13\n",
    "\n",
    "#RESULT: 10% of the variability in willingness to give up car can be explained by age and monthly average of using Lyft, monthly average of using rental bikes, and age\n",
    "\n",
    "\n",
    "regression_one_data = data[['Q11_num','Q13','Q21','Q26']]\n",
    "\n",
    "regression_one_data = regression_one_data.dropna()\n",
    "\n",
    "X = regression_one_data[['Q13','Q21','Q26']]\n",
    "y = regression_one_data['Q11_num']\n",
    "X = sm.add_constant(X) ## adds an intercept (beta_0) to our model\n",
    "\n",
    "model_1 = sm.OLS(y, X).fit()\n",
    "predictions = model_1.predict(X) # make the predictions by the model\n",
    "\n",
    "# Print out the statistics\n",
    "model_1.summary()"
   ]
  }
 ],
 "metadata": {
  "kernelspec": {
   "display_name": "Python 3",
   "language": "python",
   "name": "python3"
  },
  "language_info": {
   "codemirror_mode": {
    "name": "ipython",
    "version": 3
   },
   "file_extension": ".py",
   "mimetype": "text/x-python",
   "name": "python",
   "nbconvert_exporter": "python",
   "pygments_lexer": "ipython3",
   "version": "3.7.6"
  }
 },
 "nbformat": 4,
 "nbformat_minor": 4
}
